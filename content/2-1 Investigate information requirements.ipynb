{
 "cells": [
  {
   "cell_type": "markdown",
   "metadata": {
    "editable": false,
    "slideshow": {
     "slide_type": "slide"
    },
    "tags": []
   },
   "source": [
    "# Setup\n",
    "\n",
    "Press \"Shift + Enter\" to step trhrought the code / slides."
   ]
  },
  {
   "cell_type": "code",
   "execution_count": 1,
   "metadata": {
    "editable": true,
    "slideshow": {
     "slide_type": ""
    },
    "tags": []
   },
   "outputs": [],
   "source": [
    "try:\n",
    "    import micropip\n",
    "    await micropip.install([\"pyoliteutils\"])\n",
    "except Exception:\n",
    "    pass"
   ]
  },
  {
   "cell_type": "code",
   "execution_count": 2,
   "metadata": {
    "editable": false,
    "slideshow": {
     "slide_type": ""
    },
    "tags": []
   },
   "outputs": [
    {
     "ename": "ModuleNotFoundError",
     "evalue": "No module named 'pyoliteutils'",
     "output_type": "error",
     "traceback": [
      "\u001b[0;31m---------------------------------------------------------------------------\u001b[0m",
      "\u001b[0;31mModuleNotFoundError\u001b[0m                       Traceback (most recent call last)",
      "Cell \u001b[0;32mIn[2], line 1\u001b[0m\n\u001b[0;32m----> 1\u001b[0m \u001b[38;5;28;01mfrom\u001b[39;00m \u001b[38;5;21;01mpyoliteutils\u001b[39;00m \u001b[38;5;28;01mimport\u001b[39;00m \u001b[38;5;241m*\u001b[39m\n",
      "\u001b[0;31mModuleNotFoundError\u001b[0m: No module named 'pyoliteutils'"
     ]
    }
   ],
   "source": [
    "from pyoliteutils import *"
   ]
  },
  {
   "cell_type": "markdown",
   "metadata": {
    "editable": false,
    "slideshow": {
     "slide_type": "slide"
    },
    "tags": []
   },
   "source": [
    "# Be able to investigate client requirements for data analysis\n",
    "# 2.1 Investigate information requirements\n",
    "\n",
    "- What is the Business Decision we need to make?\n",
    "- What knowledge will we need to make it?\n",
    "- What data & information will we need to generate the knowledge?\n"
   ]
  },
  {
   "cell_type": "markdown",
   "metadata": {
    "editable": false,
    "slideshow": {
     "slide_type": "slide"
    },
    "tags": []
   },
   "source": [
    "## Information requirements could be related to:-\n",
    "\n",
    "### Business intelligence\n",
    "\n",
    "- Tracking revenues and costs to decide on future pricing\n",
    "- Measuring marketing campaign results\n",
    "- \n",
    "Gaining visibility into cash flow, gross margins, and operating expenses- \n",
    "Capturing insights about employees and prospects to optimize HR processes and recruitmen- t\n",
    "Tracking parts and material trends and supplier performan- ce\n",
    "Forecasting revenues and transacti- ons\n",
    "Optimizing call center and depot staffing le- vels\n",
    "Obtaining cross-enterprise - views\n",
    "Uncovering new revenue opportunities and patterrmance\n"
   ]
  },
  {
   "cell_type": "markdown",
   "metadata": {
    "editable": false,
    "slideshow": {
     "slide_type": ""
    },
    "tags": []
   },
   "source": [
    "## Information requirements could be related to:-\n",
    "### Scientific research\n",
    "\n",
    "- Reading Academic Papers to decide on best apporach to problem\n",
    "- Experimental evidence to support a hypothesis\n",
    "\n",
    "### Sports performance\n",
    "\n",
    "### Medical research\n"
   ]
  },
  {
   "cell_type": "markdown",
   "metadata": {
    "editable": false,
    "slideshow": {
     "slide_type": "slide"
    },
    "tags": []
   },
   "source": [
    "## Information requirements could be related to:-\n",
    "### Politics\n",
    "What Business Decisions could be based on Political Information? "
   ]
  },
  {
   "cell_type": "markdown",
   "metadata": {
    "editable": true,
    "slideshow": {
     "slide_type": ""
    },
    "tags": []
   },
   "source": [
    "Double Click here to enter your answer.\n"
   ]
  },
  {
   "cell_type": "markdown",
   "metadata": {
    "editable": false,
    "slideshow": {
     "slide_type": "slide"
    },
    "tags": []
   },
   "source": [
    "## Example \n",
    "\n",
    "### What is the Business Decision we need to make?\n",
    "#### What Midfield Player should we try to buy?\n"
   ]
  },
  {
   "cell_type": "markdown",
   "metadata": {
    "editable": false,
    "slideshow": {
     "slide_type": "slide"
    },
    "tags": []
   },
   "source": [
    "\n",
    "### What knowledge will we need to make it?\n",
    "#### What makes a good Midfield Player?\n",
    "- Is heavily involved in their team’s in-possession game\n",
    "- Can execute a quick pass (first time pass or otherwise)\n",
    "- Can spot a teammate in space\n",
    "- Can directly improve our team’s chances of winning football matches\n"
   ]
  },
  {
   "cell_type": "markdown",
   "metadata": {
    "editable": false,
    "slideshow": {
     "slide_type": "slide"
    },
    "tags": []
   },
   "source": [
    "## What data / information will we need to generate the knowledge?\n",
    "\n",
    "- Is heavily involved in their team’s in-possession game\n",
    "    - Ratio of a players passes compared to there teams passes in a game.\n",
    "- Can execute a quick pass (first time pass or otherwise)\n",
    "    - Calculating time between ball receipt and the next pass.\n",
    "- Can spot a teammate in space\n",
    "    - Passes received in a space of 5m or more\n",
    "- Can directly improve our team’s chances of winning football matches\n",
    "    - StatsBomb [On-Ball Value](https://statsbomb.com/articles/soccer/on-ball-value-obv-in-the-2020-21-premier-league/)\n"
   ]
  },
  {
   "cell_type": "markdown",
   "metadata": {
    "editable": false,
    "slideshow": {
     "slide_type": "subslide"
    },
    "tags": []
   },
   "source": [
    "\n",
    "### Full article on StatsBomb\n",
    "\n",
    "[Identifying Fast Passers Using Data By Jaymes Monte ](https://statsbomb.com/articles/soccer/identifying-fast-passers-using-data/)"
   ]
  },
  {
   "cell_type": "markdown",
   "metadata": {
    "editable": true,
    "slideshow": {
     "slide_type": "slide"
    },
    "tags": []
   },
   "source": [
    "## What special limitations might some types of knowledge introduce ?\n",
    "- Personally Identifiable Information => GDPR\n",
    "- Drug Testing => Medical Ethics & experimental reproducibility etc. "
   ]
  },
  {
   "cell_type": "markdown",
   "metadata": {
    "editable": false,
    "slideshow": {
     "slide_type": "slide"
    },
    "tags": []
   },
   "source": [
    "# Task\n",
    "\n",
    "## What is the Business Decision we need to make?\n",
    "### \"How can we improve attendance at Sheffield Museums?\"\n",
    "\n",
    "\n",
    "- What knowledge will we need to make it?\n",
    "- What data & information will we need to generate the knowledge?\n",
    "- Are there extra restrictions to think about?"
   ]
  },
  {
   "cell_type": "markdown",
   "metadata": {
    "editable": true,
    "slideshow": {
     "slide_type": ""
    },
    "tags": []
   },
   "source": [
    "Answer here or in the mindmap."
   ]
  },
  {
   "cell_type": "code",
   "execution_count": null,
   "metadata": {
    "editable": true,
    "slideshow": {
     "slide_type": "slide"
    },
    "tags": []
   },
   "outputs": [],
   "source": [
    "mermaid(\"\"\"\n",
    "mindmap\n",
    "  )How can we improve attendance at Sheffield Museums : Knowledge needed(\n",
    "    What has affected attendance over time?\n",
    "        Attendence figures for each museum over time\n",
    "        Opening hours over time\n",
    "        Locations\n",
    "        Marketing Campaigns run\n",
    "\"\"\")"
   ]
  },
  {
   "cell_type": "code",
   "execution_count": null,
   "metadata": {
    "editable": true,
    "slideshow": {
     "slide_type": ""
    },
    "tags": []
   },
   "outputs": [],
   "source": []
  }
 ],
 "metadata": {
  "kernelspec": {
   "display_name": "Python 3 (ipykernel)",
   "language": "python",
   "name": "python3"
  },
  "language_info": {
   "codemirror_mode": {
    "name": "ipython",
    "version": 3
   },
   "file_extension": ".py",
   "mimetype": "text/x-python",
   "name": "python",
   "nbconvert_exporter": "python",
   "pygments_lexer": "ipython3",
   "version": "3.10.13"
  }
 },
 "nbformat": 4,
 "nbformat_minor": 4
}
