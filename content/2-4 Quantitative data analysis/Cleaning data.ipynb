{
 "cells": [
  {
   "cell_type": "markdown",
   "metadata": {
    "editable": true,
    "slideshow": {
     "slide_type": "slide"
    },
    "tags": []
   },
   "source": [
    "# Be able to investigate client requirements for data analysis\n",
    "# 2.4 Quantitative data analysis\n",
    "\n",
    "* mean\n",
    "* median\n",
    "* standard deviation\n",
    "* range"
   ]
  },
  {
   "cell_type": "markdown",
   "metadata": {
    "editable": true,
    "slideshow": {
     "slide_type": "slide"
    },
    "tags": []
   },
   "source": [
    "## Set up"
   ]
  },
  {
   "cell_type": "code",
   "execution_count": 1,
   "metadata": {
    "editable": true,
    "slideshow": {
     "slide_type": ""
    },
    "tags": []
   },
   "outputs": [],
   "source": [
    "try:\n",
    "    import micropip\n",
    "    await micropip.install([\"pyoliteutils\", \"textblob\"])\n",
    "except:\n",
    "    pass"
   ]
  },
  {
   "cell_type": "code",
   "execution_count": 2,
   "metadata": {
    "editable": true,
    "slideshow": {
     "slide_type": ""
    },
    "tags": []
   },
   "outputs": [],
   "source": [
    "from pyoliteutils import *\n",
    "import pandas as pd"
   ]
  },
  {
   "cell_type": "markdown",
   "metadata": {
    "editable": true,
    "slideshow": {
     "slide_type": ""
    },
    "tags": []
   },
   "source": [
    "## Other useful Opponent / Match Data?\n",
    "\n",
    "### Location of opponents, and distance to Sheffield\n",
    "\n",
    "To be able to put data on a map we will need Latitude and Lngitude,\n",
    "\n",
    "#### Possible Data Sources : \n",
    "- https://api.postcodes.io/places?q=[query]\n",
    "- Nominatum / GeoPy\n",
    "    - https://geopy.readthedocs.io/en/stable/\n",
    "    - https://nominatim.org/release-docs/latest/api/Search/ \n",
    "    - https://medium.com/@gopesh3652/geocoding-with-python-using-nominatim-a-beginners-guide-220b250ca48d \n"
   ]
  },
  {
   "cell_type": "markdown",
   "metadata": {
    "editable": true,
    "slideshow": {
     "slide_type": ""
    },
    "tags": []
   },
   "source": [
    "## Stadium Data"
   ]
  },
  {
   "cell_type": "code",
   "execution_count": 3,
   "metadata": {
    "editable": true,
    "slideshow": {
     "slide_type": ""
    },
    "tags": []
   },
   "outputs": [
    {
     "data": {
      "text/html": [
       "<div>\n",
       "<style scoped>\n",
       "    .dataframe tbody tr th:only-of-type {\n",
       "        vertical-align: middle;\n",
       "    }\n",
       "\n",
       "    .dataframe tbody tr th {\n",
       "        vertical-align: top;\n",
       "    }\n",
       "\n",
       "    .dataframe thead th {\n",
       "        text-align: right;\n",
       "    }\n",
       "</style>\n",
       "<table border=\"1\" class=\"dataframe\">\n",
       "  <thead>\n",
       "    <tr style=\"text-align: right;\">\n",
       "      <th></th>\n",
       "      <th>Stadium</th>\n",
       "      <th>Postcode</th>\n",
       "    </tr>\n",
       "  </thead>\n",
       "  <tbody>\n",
       "    <tr>\n",
       "      <th>0</th>\n",
       "      <td>OWLERTON</td>\n",
       "      <td>S6 2DE</td>\n",
       "    </tr>\n",
       "    <tr>\n",
       "      <th>1</th>\n",
       "      <td>MILLMOOR</td>\n",
       "      <td>S60 1HB</td>\n",
       "    </tr>\n",
       "    <tr>\n",
       "      <th>2</th>\n",
       "      <td>HEADINGLEY</td>\n",
       "      <td>LS6 3BR</td>\n",
       "    </tr>\n",
       "    <tr>\n",
       "      <th>3</th>\n",
       "      <td>BRAMALL LANE</td>\n",
       "      <td>S2 4QX</td>\n",
       "    </tr>\n",
       "    <tr>\n",
       "      <th>4</th>\n",
       "      <td>HILLSBOROUGH</td>\n",
       "      <td>S6 1SW</td>\n",
       "    </tr>\n",
       "    <tr>\n",
       "      <th>5</th>\n",
       "      <td>OAKWELL</td>\n",
       "      <td>S71 1ET</td>\n",
       "    </tr>\n",
       "    <tr>\n",
       "      <th>6</th>\n",
       "      <td>BELLE VUE</td>\n",
       "      <td>DN4 5DX</td>\n",
       "    </tr>\n",
       "    <tr>\n",
       "      <th>7</th>\n",
       "      <td>SALTERGATE</td>\n",
       "      <td>S40 4SX</td>\n",
       "    </tr>\n",
       "    <tr>\n",
       "      <th>8</th>\n",
       "      <td>TATTERSFIELD</td>\n",
       "      <td>DN4 5JW</td>\n",
       "    </tr>\n",
       "    <tr>\n",
       "      <th>9</th>\n",
       "      <td>THRUM HALL</td>\n",
       "      <td>HX1 4LG</td>\n",
       "    </tr>\n",
       "    <tr>\n",
       "      <th>10</th>\n",
       "      <td>DON VALLEY</td>\n",
       "      <td>S9 3TL</td>\n",
       "    </tr>\n",
       "    <tr>\n",
       "      <th>11</th>\n",
       "      <td>KEEPMOAT</td>\n",
       "      <td>DN4 5JW</td>\n",
       "    </tr>\n",
       "    <tr>\n",
       "      <th>12</th>\n",
       "      <td>HALLAM S P</td>\n",
       "      <td>S9 3HL</td>\n",
       "    </tr>\n",
       "    <tr>\n",
       "      <th>13</th>\n",
       "      <td>O L P</td>\n",
       "      <td>S9 3TL</td>\n",
       "    </tr>\n",
       "    <tr>\n",
       "      <th>14</th>\n",
       "      <td>CARDIFF ARMS PARK</td>\n",
       "      <td>CF10 1JA</td>\n",
       "    </tr>\n",
       "    <tr>\n",
       "      <th>15</th>\n",
       "      <td>CLIFTON LANE</td>\n",
       "      <td>S65 2AA</td>\n",
       "    </tr>\n",
       "    <tr>\n",
       "      <th>16</th>\n",
       "      <td>WOODBURN</td>\n",
       "      <td>S9 3HL</td>\n",
       "    </tr>\n",
       "    <tr>\n",
       "      <th>17</th>\n",
       "      <td>MOUNT ST</td>\n",
       "      <td>SO14 5FP</td>\n",
       "    </tr>\n",
       "    <tr>\n",
       "      <th>18</th>\n",
       "      <td>MARY CASTLE’S PARK</td>\n",
       "      <td>DN2 5QB</td>\n",
       "    </tr>\n",
       "    <tr>\n",
       "      <th>19</th>\n",
       "      <td>POST OFFICE ROAD</td>\n",
       "      <td>WF7 5EP</td>\n",
       "    </tr>\n",
       "  </tbody>\n",
       "</table>\n",
       "</div>"
      ],
      "text/plain": [
       "               Stadium  Postcode\n",
       "0             OWLERTON    S6 2DE\n",
       "1             MILLMOOR   S60 1HB\n",
       "2           HEADINGLEY   LS6 3BR\n",
       "3         BRAMALL LANE    S2 4QX\n",
       "4         HILLSBOROUGH    S6 1SW\n",
       "5              OAKWELL   S71 1ET\n",
       "6            BELLE VUE   DN4 5DX\n",
       "7           SALTERGATE   S40 4SX\n",
       "8         TATTERSFIELD   DN4 5JW\n",
       "9           THRUM HALL   HX1 4LG\n",
       "10          DON VALLEY    S9 3TL\n",
       "11            KEEPMOAT   DN4 5JW\n",
       "12          HALLAM S P    S9 3HL\n",
       "13               O L P    S9 3TL\n",
       "14   CARDIFF ARMS PARK  CF10 1JA\n",
       "15        CLIFTON LANE   S65 2AA\n",
       "16            WOODBURN    S9 3HL\n",
       "17            MOUNT ST  SO14 5FP\n",
       "18  MARY CASTLE’S PARK   DN2 5QB\n",
       "19    POST OFFICE ROAD   WF7 5EP"
      ]
     },
     "execution_count": 3,
     "metadata": {},
     "output_type": "execute_result"
    }
   ],
   "source": [
    "stadiums = pd.read_csv(\"../data/eagles/stadiums.csv\")\n",
    "stadiums"
   ]
  },
  {
   "cell_type": "markdown",
   "metadata": {
    "editable": true,
    "slideshow": {
     "slide_type": ""
    },
    "tags": []
   },
   "source": [
    "## Adding the Latitude & Longitude"
   ]
  },
  {
   "cell_type": "code",
   "execution_count": 14,
   "metadata": {
    "editable": true,
    "slideshow": {
     "slide_type": ""
    },
    "tags": []
   },
   "outputs": [],
   "source": [
    "import postcodes_io_api\n",
    "class Api2(postcodes_io_api.Api):\n",
    "        def places_query(self, place):\n",
    "            \"\"\"\n",
    "            This method returns data for post_code\n",
    "            * **:param postcode** - postcode to check i.e. 'SW112EF'\n",
    "            * **::return** - postcode detailed data\n",
    "            ```\n",
    "              data = api.places_query('Sheffield')\n",
    "        \n",
    "            ```\n",
    "            \"\"\"\n",
    "            url = '/places?q={place}'.format(place=place)\n",
    "            response = self._make_request('GET', url)\n",
    "            data = self._parse_json_data(response.content.decode('utf-8'))\n",
    "            return data\n",
    "\n",
    "api  = Api2()\n",
    "\n",
    "def get_place(place):\n",
    "    latitude = None\n",
    "    longitude = None\n",
    "    \n",
    "    data = api.places_query(place)\n",
    "    #print(\"data\", data)\n",
    "    \n",
    "    if data[\"status\"] == 200 and len(data[\"result\"]):        \n",
    "        if \"latitude\" in data[\"result\"][0]:\n",
    "            latitude = data[\"result\"][0][\"latitude\"]\n",
    "            longitude = data[\"result\"][0][\"longitude\"]\n",
    "    #print(\"latitude, longitude\", latitude, longitude)\n",
    "    return latitude, longitude\n",
    "\n",
    "def get_latlong(postcode):\n",
    "    latitude = None\n",
    "    longitude = None\n",
    "    \n",
    "    data = api.get_postcode(postcode)\n",
    "    #print(\"data\", data)\n",
    "    if data[\"status\"] != 200 :\n",
    "        data = api.get_outcode(postcode)\n",
    "    \n",
    "    if data[\"status\"] == 200 :        \n",
    "        if \"latitude\" in data[\"result\"]:\n",
    "            latitude = data[\"result\"][\"latitude\"]\n",
    "            longitude = data[\"result\"][\"longitude\"]\n",
    "    #print(\"latitude, longitude\", latitude, longitude)\n",
    "    return latitude, longitude\n",
    "    \n",
    "def get_latlongs(df):\n",
    "    if (\"Latitude\" not in df) and (\"Postcode\" in df):    \n",
    "      try:\n",
    "        df[[\"Latitude\", \"Longitude\"]] = df.apply(\n",
    "            lambda row: get_latlong(row[\"Postcode\"]), axis=1, result_type=\"expand\"\n",
    "        )\n",
    "      except Exception as e:\n",
    "          print('Postcode Conversion failed : '+ str(e))\n",
    "    return df\n",
    "\n",
    "def get_places(df, field_name):\n",
    "    if (\"Latitude\" not in df) and (field_name in df):    \n",
    "      try:\n",
    "        df[[field_name + \" Latitude\", field_name + \" Longitude\"]] = df.apply(\n",
    "            lambda row: get_place(row[field_name]), axis=1, result_type=\"expand\"\n",
    "        )\n",
    "      except Exception as e:\n",
    "          print('Place  Conversion failed : '+ str(e))\n",
    "    return df"
   ]
  },
  {
   "cell_type": "code",
   "execution_count": 15,
   "metadata": {
    "editable": true,
    "slideshow": {
     "slide_type": ""
    },
    "tags": []
   },
   "outputs": [
    {
     "data": {
      "text/html": [
       "<div>\n",
       "<style scoped>\n",
       "    .dataframe tbody tr th:only-of-type {\n",
       "        vertical-align: middle;\n",
       "    }\n",
       "\n",
       "    .dataframe tbody tr th {\n",
       "        vertical-align: top;\n",
       "    }\n",
       "\n",
       "    .dataframe thead th {\n",
       "        text-align: right;\n",
       "    }\n",
       "</style>\n",
       "<table border=\"1\" class=\"dataframe\">\n",
       "  <thead>\n",
       "    <tr style=\"text-align: right;\">\n",
       "      <th></th>\n",
       "      <th>Stadium</th>\n",
       "      <th>Postcode</th>\n",
       "      <th>Latitude</th>\n",
       "      <th>Longitude</th>\n",
       "      <th>Miles from Sheffield</th>\n",
       "    </tr>\n",
       "  </thead>\n",
       "  <tbody>\n",
       "    <tr>\n",
       "      <th>0</th>\n",
       "      <td>OWLERTON</td>\n",
       "      <td>S6 2DE</td>\n",
       "      <td>53.406031</td>\n",
       "      <td>-1.493303</td>\n",
       "      <td>1.918934</td>\n",
       "    </tr>\n",
       "    <tr>\n",
       "      <th>1</th>\n",
       "      <td>MILLMOOR</td>\n",
       "      <td>S60 1HB</td>\n",
       "      <td>53.428758</td>\n",
       "      <td>-1.369397</td>\n",
       "      <td>5.185172</td>\n",
       "    </tr>\n",
       "    <tr>\n",
       "      <th>2</th>\n",
       "      <td>HEADINGLEY</td>\n",
       "      <td>LS6 3BR</td>\n",
       "      <td>53.816081</td>\n",
       "      <td>-1.580617</td>\n",
       "      <td>30.307328</td>\n",
       "    </tr>\n",
       "    <tr>\n",
       "      <th>3</th>\n",
       "      <td>BRAMALL LANE</td>\n",
       "      <td>S2 4QX</td>\n",
       "      <td>53.371341</td>\n",
       "      <td>-1.469862</td>\n",
       "      <td>0.773637</td>\n",
       "    </tr>\n",
       "    <tr>\n",
       "      <th>4</th>\n",
       "      <td>HILLSBOROUGH</td>\n",
       "      <td>S6 1SW</td>\n",
       "      <td>53.410844</td>\n",
       "      <td>-1.500859</td>\n",
       "      <td>2.367659</td>\n",
       "    </tr>\n",
       "    <tr>\n",
       "      <th>5</th>\n",
       "      <td>OAKWELL</td>\n",
       "      <td>S71 1ET</td>\n",
       "      <td>53.552266</td>\n",
       "      <td>-1.468631</td>\n",
       "      <td>11.729022</td>\n",
       "    </tr>\n",
       "    <tr>\n",
       "      <th>6</th>\n",
       "      <td>BELLE VUE</td>\n",
       "      <td>DN4 5DX</td>\n",
       "      <td>53.517626</td>\n",
       "      <td>-1.108750</td>\n",
       "      <td>17.501780</td>\n",
       "    </tr>\n",
       "    <tr>\n",
       "      <th>7</th>\n",
       "      <td>SALTERGATE</td>\n",
       "      <td>S40 4SX</td>\n",
       "      <td>53.238963</td>\n",
       "      <td>-1.434745</td>\n",
       "      <td>10.015773</td>\n",
       "    </tr>\n",
       "    <tr>\n",
       "      <th>8</th>\n",
       "      <td>TATTERSFIELD</td>\n",
       "      <td>DN4 5JW</td>\n",
       "      <td>53.509088</td>\n",
       "      <td>-1.113845</td>\n",
       "      <td>17.015450</td>\n",
       "    </tr>\n",
       "    <tr>\n",
       "      <th>9</th>\n",
       "      <td>THRUM HALL</td>\n",
       "      <td>HX1 4LG</td>\n",
       "      <td>53.721864</td>\n",
       "      <td>-1.884001</td>\n",
       "      <td>28.993035</td>\n",
       "    </tr>\n",
       "    <tr>\n",
       "      <th>10</th>\n",
       "      <td>DON VALLEY</td>\n",
       "      <td>S9 3TL</td>\n",
       "      <td>53.395919</td>\n",
       "      <td>-1.425961</td>\n",
       "      <td>1.983961</td>\n",
       "    </tr>\n",
       "    <tr>\n",
       "      <th>11</th>\n",
       "      <td>KEEPMOAT</td>\n",
       "      <td>DN4 5JW</td>\n",
       "      <td>53.509088</td>\n",
       "      <td>-1.113845</td>\n",
       "      <td>17.015450</td>\n",
       "    </tr>\n",
       "    <tr>\n",
       "      <th>12</th>\n",
       "      <td>HALLAM S P</td>\n",
       "      <td>S9 3HL</td>\n",
       "      <td>53.389960</td>\n",
       "      <td>-1.431634</td>\n",
       "      <td>1.605455</td>\n",
       "    </tr>\n",
       "    <tr>\n",
       "      <th>13</th>\n",
       "      <td>O L P</td>\n",
       "      <td>S9 3TL</td>\n",
       "      <td>53.395919</td>\n",
       "      <td>-1.425961</td>\n",
       "      <td>1.983961</td>\n",
       "    </tr>\n",
       "    <tr>\n",
       "      <th>14</th>\n",
       "      <td>CARDIFF ARMS PARK</td>\n",
       "      <td>CF10 1JA</td>\n",
       "      <td>51.479971</td>\n",
       "      <td>-3.183833</td>\n",
       "      <td>149.994349</td>\n",
       "    </tr>\n",
       "    <tr>\n",
       "      <th>15</th>\n",
       "      <td>CLIFTON LANE</td>\n",
       "      <td>S65 2AA</td>\n",
       "      <td>53.429825</td>\n",
       "      <td>-1.348792</td>\n",
       "      <td>5.917247</td>\n",
       "    </tr>\n",
       "    <tr>\n",
       "      <th>16</th>\n",
       "      <td>WOODBURN</td>\n",
       "      <td>S9 3HL</td>\n",
       "      <td>53.389960</td>\n",
       "      <td>-1.431634</td>\n",
       "      <td>1.605455</td>\n",
       "    </tr>\n",
       "    <tr>\n",
       "      <th>17</th>\n",
       "      <td>MOUNT ST</td>\n",
       "      <td>SO14 5FP</td>\n",
       "      <td>50.906530</td>\n",
       "      <td>-1.390823</td>\n",
       "      <td>171.105628</td>\n",
       "    </tr>\n",
       "    <tr>\n",
       "      <th>18</th>\n",
       "      <td>MARY CASTLE’S PARK</td>\n",
       "      <td>DN2 5QB</td>\n",
       "      <td>53.532740</td>\n",
       "      <td>-1.079900</td>\n",
       "      <td>19.062155</td>\n",
       "    </tr>\n",
       "    <tr>\n",
       "      <th>19</th>\n",
       "      <td>POST OFFICE ROAD</td>\n",
       "      <td>WF7 5EP</td>\n",
       "      <td>53.677887</td>\n",
       "      <td>-1.355116</td>\n",
       "      <td>20.933431</td>\n",
       "    </tr>\n",
       "  </tbody>\n",
       "</table>\n",
       "</div>"
      ],
      "text/plain": [
       "               Stadium  Postcode   Latitude  Longitude  Miles from Sheffield\n",
       "0             OWLERTON    S6 2DE  53.406031  -1.493303              1.918934\n",
       "1             MILLMOOR   S60 1HB  53.428758  -1.369397              5.185172\n",
       "2           HEADINGLEY   LS6 3BR  53.816081  -1.580617             30.307328\n",
       "3         BRAMALL LANE    S2 4QX  53.371341  -1.469862              0.773637\n",
       "4         HILLSBOROUGH    S6 1SW  53.410844  -1.500859              2.367659\n",
       "5              OAKWELL   S71 1ET  53.552266  -1.468631             11.729022\n",
       "6            BELLE VUE   DN4 5DX  53.517626  -1.108750             17.501780\n",
       "7           SALTERGATE   S40 4SX  53.238963  -1.434745             10.015773\n",
       "8         TATTERSFIELD   DN4 5JW  53.509088  -1.113845             17.015450\n",
       "9           THRUM HALL   HX1 4LG  53.721864  -1.884001             28.993035\n",
       "10          DON VALLEY    S9 3TL  53.395919  -1.425961              1.983961\n",
       "11            KEEPMOAT   DN4 5JW  53.509088  -1.113845             17.015450\n",
       "12          HALLAM S P    S9 3HL  53.389960  -1.431634              1.605455\n",
       "13               O L P    S9 3TL  53.395919  -1.425961              1.983961\n",
       "14   CARDIFF ARMS PARK  CF10 1JA  51.479971  -3.183833            149.994349\n",
       "15        CLIFTON LANE   S65 2AA  53.429825  -1.348792              5.917247\n",
       "16            WOODBURN    S9 3HL  53.389960  -1.431634              1.605455\n",
       "17            MOUNT ST  SO14 5FP  50.906530  -1.390823            171.105628\n",
       "18  MARY CASTLE’S PARK   DN2 5QB  53.532740  -1.079900             19.062155\n",
       "19    POST OFFICE ROAD   WF7 5EP  53.677887  -1.355116             20.933431"
      ]
     },
     "execution_count": 15,
     "metadata": {},
     "output_type": "execute_result"
    }
   ],
   "source": [
    "stadiums = get_latlongs(stadiums)\n",
    "stadiums"
   ]
  },
  {
   "cell_type": "code",
   "execution_count": null,
   "metadata": {
    "editable": true,
    "slideshow": {
     "slide_type": ""
    },
    "tags": []
   },
   "outputs": [],
   "source": []
  },
  {
   "cell_type": "code",
   "execution_count": 18,
   "metadata": {
    "editable": true,
    "slideshow": {
     "slide_type": ""
    },
    "tags": []
   },
   "outputs": [
    {
     "data": {
      "text/html": [
       "<div>\n",
       "<style scoped>\n",
       "    .dataframe tbody tr th:only-of-type {\n",
       "        vertical-align: middle;\n",
       "    }\n",
       "\n",
       "    .dataframe tbody tr th {\n",
       "        vertical-align: top;\n",
       "    }\n",
       "\n",
       "    .dataframe thead th {\n",
       "        text-align: right;\n",
       "    }\n",
       "</style>\n",
       "<table border=\"1\" class=\"dataframe\">\n",
       "  <thead>\n",
       "    <tr style=\"text-align: right;\">\n",
       "      <th></th>\n",
       "      <th>Stadium</th>\n",
       "      <th>Postcode</th>\n",
       "      <th>Latitude</th>\n",
       "      <th>Longitude</th>\n",
       "      <th>Miles from Sheffield</th>\n",
       "    </tr>\n",
       "  </thead>\n",
       "  <tbody>\n",
       "    <tr>\n",
       "      <th>0</th>\n",
       "      <td>OWLERTON</td>\n",
       "      <td>S6 2DE</td>\n",
       "      <td>53.406031</td>\n",
       "      <td>-1.493303</td>\n",
       "      <td>1.918934</td>\n",
       "    </tr>\n",
       "    <tr>\n",
       "      <th>1</th>\n",
       "      <td>MILLMOOR</td>\n",
       "      <td>S60 1HB</td>\n",
       "      <td>53.428758</td>\n",
       "      <td>-1.369397</td>\n",
       "      <td>5.185172</td>\n",
       "    </tr>\n",
       "    <tr>\n",
       "      <th>2</th>\n",
       "      <td>HEADINGLEY</td>\n",
       "      <td>LS6 3BR</td>\n",
       "      <td>53.816081</td>\n",
       "      <td>-1.580617</td>\n",
       "      <td>30.307328</td>\n",
       "    </tr>\n",
       "    <tr>\n",
       "      <th>3</th>\n",
       "      <td>BRAMALL LANE</td>\n",
       "      <td>S2 4QX</td>\n",
       "      <td>53.371341</td>\n",
       "      <td>-1.469862</td>\n",
       "      <td>0.773637</td>\n",
       "    </tr>\n",
       "    <tr>\n",
       "      <th>4</th>\n",
       "      <td>HILLSBOROUGH</td>\n",
       "      <td>S6 1SW</td>\n",
       "      <td>53.410844</td>\n",
       "      <td>-1.500859</td>\n",
       "      <td>2.367659</td>\n",
       "    </tr>\n",
       "    <tr>\n",
       "      <th>5</th>\n",
       "      <td>OAKWELL</td>\n",
       "      <td>S71 1ET</td>\n",
       "      <td>53.552266</td>\n",
       "      <td>-1.468631</td>\n",
       "      <td>11.729022</td>\n",
       "    </tr>\n",
       "    <tr>\n",
       "      <th>6</th>\n",
       "      <td>BELLE VUE</td>\n",
       "      <td>DN4 5DX</td>\n",
       "      <td>53.517626</td>\n",
       "      <td>-1.108750</td>\n",
       "      <td>17.501780</td>\n",
       "    </tr>\n",
       "    <tr>\n",
       "      <th>7</th>\n",
       "      <td>SALTERGATE</td>\n",
       "      <td>S40 4SX</td>\n",
       "      <td>53.238963</td>\n",
       "      <td>-1.434745</td>\n",
       "      <td>10.015773</td>\n",
       "    </tr>\n",
       "    <tr>\n",
       "      <th>8</th>\n",
       "      <td>TATTERSFIELD</td>\n",
       "      <td>DN4 5JW</td>\n",
       "      <td>53.509088</td>\n",
       "      <td>-1.113845</td>\n",
       "      <td>17.015450</td>\n",
       "    </tr>\n",
       "    <tr>\n",
       "      <th>9</th>\n",
       "      <td>THRUM HALL</td>\n",
       "      <td>HX1 4LG</td>\n",
       "      <td>53.721864</td>\n",
       "      <td>-1.884001</td>\n",
       "      <td>28.993035</td>\n",
       "    </tr>\n",
       "    <tr>\n",
       "      <th>10</th>\n",
       "      <td>DON VALLEY</td>\n",
       "      <td>S9 3TL</td>\n",
       "      <td>53.395919</td>\n",
       "      <td>-1.425961</td>\n",
       "      <td>1.983961</td>\n",
       "    </tr>\n",
       "    <tr>\n",
       "      <th>11</th>\n",
       "      <td>KEEPMOAT</td>\n",
       "      <td>DN4 5JW</td>\n",
       "      <td>53.509088</td>\n",
       "      <td>-1.113845</td>\n",
       "      <td>17.015450</td>\n",
       "    </tr>\n",
       "    <tr>\n",
       "      <th>12</th>\n",
       "      <td>HALLAM S P</td>\n",
       "      <td>S9 3HL</td>\n",
       "      <td>53.389960</td>\n",
       "      <td>-1.431634</td>\n",
       "      <td>1.605455</td>\n",
       "    </tr>\n",
       "    <tr>\n",
       "      <th>13</th>\n",
       "      <td>O L P</td>\n",
       "      <td>S9 3TL</td>\n",
       "      <td>53.395919</td>\n",
       "      <td>-1.425961</td>\n",
       "      <td>1.983961</td>\n",
       "    </tr>\n",
       "    <tr>\n",
       "      <th>14</th>\n",
       "      <td>CARDIFF ARMS PARK</td>\n",
       "      <td>CF10 1JA</td>\n",
       "      <td>51.479971</td>\n",
       "      <td>-3.183833</td>\n",
       "      <td>149.994349</td>\n",
       "    </tr>\n",
       "    <tr>\n",
       "      <th>15</th>\n",
       "      <td>CLIFTON LANE</td>\n",
       "      <td>S65 2AA</td>\n",
       "      <td>53.429825</td>\n",
       "      <td>-1.348792</td>\n",
       "      <td>5.917247</td>\n",
       "    </tr>\n",
       "    <tr>\n",
       "      <th>16</th>\n",
       "      <td>WOODBURN</td>\n",
       "      <td>S9 3HL</td>\n",
       "      <td>53.389960</td>\n",
       "      <td>-1.431634</td>\n",
       "      <td>1.605455</td>\n",
       "    </tr>\n",
       "    <tr>\n",
       "      <th>17</th>\n",
       "      <td>MOUNT ST</td>\n",
       "      <td>SO14 5FP</td>\n",
       "      <td>50.906530</td>\n",
       "      <td>-1.390823</td>\n",
       "      <td>171.105628</td>\n",
       "    </tr>\n",
       "    <tr>\n",
       "      <th>18</th>\n",
       "      <td>MARY CASTLE’S PARK</td>\n",
       "      <td>DN2 5QB</td>\n",
       "      <td>53.532740</td>\n",
       "      <td>-1.079900</td>\n",
       "      <td>19.062155</td>\n",
       "    </tr>\n",
       "    <tr>\n",
       "      <th>19</th>\n",
       "      <td>POST OFFICE ROAD</td>\n",
       "      <td>WF7 5EP</td>\n",
       "      <td>53.677887</td>\n",
       "      <td>-1.355116</td>\n",
       "      <td>20.933431</td>\n",
       "    </tr>\n",
       "  </tbody>\n",
       "</table>\n",
       "</div>"
      ],
      "text/plain": [
       "               Stadium  Postcode   Latitude  Longitude  Miles from Sheffield\n",
       "0             OWLERTON    S6 2DE  53.406031  -1.493303              1.918934\n",
       "1             MILLMOOR   S60 1HB  53.428758  -1.369397              5.185172\n",
       "2           HEADINGLEY   LS6 3BR  53.816081  -1.580617             30.307328\n",
       "3         BRAMALL LANE    S2 4QX  53.371341  -1.469862              0.773637\n",
       "4         HILLSBOROUGH    S6 1SW  53.410844  -1.500859              2.367659\n",
       "5              OAKWELL   S71 1ET  53.552266  -1.468631             11.729022\n",
       "6            BELLE VUE   DN4 5DX  53.517626  -1.108750             17.501780\n",
       "7           SALTERGATE   S40 4SX  53.238963  -1.434745             10.015773\n",
       "8         TATTERSFIELD   DN4 5JW  53.509088  -1.113845             17.015450\n",
       "9           THRUM HALL   HX1 4LG  53.721864  -1.884001             28.993035\n",
       "10          DON VALLEY    S9 3TL  53.395919  -1.425961              1.983961\n",
       "11            KEEPMOAT   DN4 5JW  53.509088  -1.113845             17.015450\n",
       "12          HALLAM S P    S9 3HL  53.389960  -1.431634              1.605455\n",
       "13               O L P    S9 3TL  53.395919  -1.425961              1.983961\n",
       "14   CARDIFF ARMS PARK  CF10 1JA  51.479971  -3.183833            149.994349\n",
       "15        CLIFTON LANE   S65 2AA  53.429825  -1.348792              5.917247\n",
       "16            WOODBURN    S9 3HL  53.389960  -1.431634              1.605455\n",
       "17            MOUNT ST  SO14 5FP  50.906530  -1.390823            171.105628\n",
       "18  MARY CASTLE’S PARK   DN2 5QB  53.532740  -1.079900             19.062155\n",
       "19    POST OFFICE ROAD   WF7 5EP  53.677887  -1.355116             20.933431"
      ]
     },
     "execution_count": 18,
     "metadata": {},
     "output_type": "execute_result"
    }
   ],
   "source": [
    "#https://towardsdatascience.com/calculating-distance-between-two-geolocations-in-python-26ad3afe287b\n",
    "\n",
    "sheffield_latlong = get_place(\"Sheffield\")\n",
    "import haversine as hs\n",
    "\n",
    "#stadiums['dist_from_sheffield'] = hs.haversine(sheffield_latlong, (stadiums[\"Latitude\"], stadiums[\"Longitude\"]), unit=Unit.MILES)\n",
    "\n",
    "stadiums['Miles from Sheffield'] = stadiums.apply(\n",
    "    lambda row: hs.haversine(sheffield_latlong, (row[\"Latitude\"], row[\"Longitude\"]), unit=hs.Unit.MILES), axis=1, result_type=\"expand\"\n",
    ")\n",
    "stadiums"
   ]
  },
  {
   "cell_type": "code",
   "execution_count": 19,
   "metadata": {
    "editable": true,
    "slideshow": {
     "slide_type": ""
    },
    "tags": []
   },
   "outputs": [],
   "source": [
    "#Save for later \n",
    "stadiums.to_csv(\"../data/eagles/stadiums_with_latlong.csv\", index=False)"
   ]
  },
  {
   "cell_type": "markdown",
   "metadata": {
    "editable": true,
    "slideshow": {
     "slide_type": "slide"
    },
    "tags": []
   },
   "source": [
    "## Crowd / Attendance Data"
   ]
  },
  {
   "cell_type": "code",
   "execution_count": 20,
   "metadata": {
    "editable": true,
    "slideshow": {
     "slide_type": ""
    },
    "tags": []
   },
   "outputs": [
    {
     "data": {
      "text/html": [
       "<div>\n",
       "<style scoped>\n",
       "    .dataframe tbody tr th:only-of-type {\n",
       "        vertical-align: middle;\n",
       "    }\n",
       "\n",
       "    .dataframe tbody tr th {\n",
       "        vertical-align: top;\n",
       "    }\n",
       "\n",
       "    .dataframe thead th {\n",
       "        text-align: right;\n",
       "    }\n",
       "</style>\n",
       "<table border=\"1\" class=\"dataframe\">\n",
       "  <thead>\n",
       "    <tr style=\"text-align: right;\">\n",
       "      <th></th>\n",
       "      <th>Date</th>\n",
       "      <th>Opponents</th>\n",
       "      <th>Attendance</th>\n",
       "    </tr>\n",
       "  </thead>\n",
       "  <tbody>\n",
       "    <tr>\n",
       "      <th>0</th>\n",
       "      <td>02/09/1984</td>\n",
       "      <td>Rochdale</td>\n",
       "      <td>1425</td>\n",
       "    </tr>\n",
       "    <tr>\n",
       "      <th>1</th>\n",
       "      <td>09/09/1984</td>\n",
       "      <td>Fulham</td>\n",
       "      <td>1145</td>\n",
       "    </tr>\n",
       "    <tr>\n",
       "      <th>2</th>\n",
       "      <td>23/09/1984</td>\n",
       "      <td>Salford</td>\n",
       "      <td>1159</td>\n",
       "    </tr>\n",
       "    <tr>\n",
       "      <th>3</th>\n",
       "      <td>14/10/1984</td>\n",
       "      <td>Runcorn</td>\n",
       "      <td>1076</td>\n",
       "    </tr>\n",
       "    <tr>\n",
       "      <th>4</th>\n",
       "      <td>28/10/1984</td>\n",
       "      <td>Bridgend</td>\n",
       "      <td>826</td>\n",
       "    </tr>\n",
       "    <tr>\n",
       "      <th>...</th>\n",
       "      <td>...</td>\n",
       "      <td>...</td>\n",
       "      <td>...</td>\n",
       "    </tr>\n",
       "    <tr>\n",
       "      <th>583</th>\n",
       "      <td>24/07/2022</td>\n",
       "      <td>Workington</td>\n",
       "      <td>644</td>\n",
       "    </tr>\n",
       "    <tr>\n",
       "      <th>584</th>\n",
       "      <td>07/08/2022</td>\n",
       "      <td>Whitehaven</td>\n",
       "      <td>727</td>\n",
       "    </tr>\n",
       "    <tr>\n",
       "      <th>585</th>\n",
       "      <td>12/08/2022</td>\n",
       "      <td>Halifax</td>\n",
       "      <td>569</td>\n",
       "    </tr>\n",
       "    <tr>\n",
       "      <th>586</th>\n",
       "      <td>02/09/2022</td>\n",
       "      <td>Featherstone</td>\n",
       "      <td>912</td>\n",
       "    </tr>\n",
       "    <tr>\n",
       "      <th>587</th>\n",
       "      <td>14/09/2022</td>\n",
       "      <td>Dewsbury</td>\n",
       "      <td>604</td>\n",
       "    </tr>\n",
       "  </tbody>\n",
       "</table>\n",
       "<p>588 rows × 3 columns</p>\n",
       "</div>"
      ],
      "text/plain": [
       "           Date     Opponents  Attendance\n",
       "0    02/09/1984      Rochdale        1425\n",
       "1    09/09/1984        Fulham        1145\n",
       "2    23/09/1984       Salford        1159\n",
       "3    14/10/1984       Runcorn        1076\n",
       "4    28/10/1984      Bridgend         826\n",
       "..          ...           ...         ...\n",
       "583  24/07/2022    Workington         644\n",
       "584  07/08/2022    Whitehaven         727\n",
       "585  12/08/2022       Halifax         569\n",
       "586  02/09/2022  Featherstone         912\n",
       "587  14/09/2022      Dewsbury         604\n",
       "\n",
       "[588 rows x 3 columns]"
      ]
     },
     "execution_count": 20,
     "metadata": {},
     "output_type": "execute_result"
    }
   ],
   "source": [
    "crowds = pd.read_csv(\"../data/eagles/crowds.csv\")\n",
    "## https://datascienceparichay.com/article/pandas-extract-year-from-datetime-column/\n",
    "crowds"
   ]
  },
  {
   "cell_type": "markdown",
   "metadata": {
    "editable": true,
    "slideshow": {
     "slide_type": ""
    },
    "tags": []
   },
   "source": [
    "## Add the distance to sheffield"
   ]
  },
  {
   "cell_type": "code",
   "execution_count": 21,
   "metadata": {
    "editable": true,
    "slideshow": {
     "slide_type": ""
    },
    "tags": []
   },
   "outputs": [
    {
     "data": {
      "text/html": [
       "<div>\n",
       "<style scoped>\n",
       "    .dataframe tbody tr th:only-of-type {\n",
       "        vertical-align: middle;\n",
       "    }\n",
       "\n",
       "    .dataframe tbody tr th {\n",
       "        vertical-align: top;\n",
       "    }\n",
       "\n",
       "    .dataframe thead th {\n",
       "        text-align: right;\n",
       "    }\n",
       "</style>\n",
       "<table border=\"1\" class=\"dataframe\">\n",
       "  <thead>\n",
       "    <tr style=\"text-align: right;\">\n",
       "      <th></th>\n",
       "      <th>Date</th>\n",
       "      <th>Opponents</th>\n",
       "      <th>Attendance</th>\n",
       "      <th>Opponents Latitude</th>\n",
       "      <th>Opponents Longitude</th>\n",
       "    </tr>\n",
       "  </thead>\n",
       "  <tbody>\n",
       "    <tr>\n",
       "      <th>0</th>\n",
       "      <td>02/09/1984</td>\n",
       "      <td>Rochdale</td>\n",
       "      <td>1425</td>\n",
       "      <td>53.616965</td>\n",
       "      <td>-2.156708</td>\n",
       "    </tr>\n",
       "    <tr>\n",
       "      <th>1</th>\n",
       "      <td>09/09/1984</td>\n",
       "      <td>Fulham</td>\n",
       "      <td>1145</td>\n",
       "      <td>51.471626</td>\n",
       "      <td>-0.211248</td>\n",
       "    </tr>\n",
       "    <tr>\n",
       "      <th>2</th>\n",
       "      <td>23/09/1984</td>\n",
       "      <td>Salford</td>\n",
       "      <td>1159</td>\n",
       "      <td>53.710701</td>\n",
       "      <td>-2.098607</td>\n",
       "    </tr>\n",
       "    <tr>\n",
       "      <th>3</th>\n",
       "      <td>14/10/1984</td>\n",
       "      <td>Runcorn</td>\n",
       "      <td>1076</td>\n",
       "      <td>53.341713</td>\n",
       "      <td>-2.731298</td>\n",
       "    </tr>\n",
       "    <tr>\n",
       "      <th>4</th>\n",
       "      <td>28/10/1984</td>\n",
       "      <td>Bridgend</td>\n",
       "      <td>826</td>\n",
       "      <td>56.295700</td>\n",
       "      <td>-2.978223</td>\n",
       "    </tr>\n",
       "    <tr>\n",
       "      <th>...</th>\n",
       "      <td>...</td>\n",
       "      <td>...</td>\n",
       "      <td>...</td>\n",
       "      <td>...</td>\n",
       "      <td>...</td>\n",
       "    </tr>\n",
       "    <tr>\n",
       "      <th>583</th>\n",
       "      <td>24/07/2022</td>\n",
       "      <td>Workington</td>\n",
       "      <td>644</td>\n",
       "      <td>54.643374</td>\n",
       "      <td>-3.549369</td>\n",
       "    </tr>\n",
       "    <tr>\n",
       "      <th>584</th>\n",
       "      <td>07/08/2022</td>\n",
       "      <td>Whitehaven</td>\n",
       "      <td>727</td>\n",
       "      <td>54.550728</td>\n",
       "      <td>-3.587463</td>\n",
       "    </tr>\n",
       "    <tr>\n",
       "      <th>585</th>\n",
       "      <td>12/08/2022</td>\n",
       "      <td>Halifax</td>\n",
       "      <td>569</td>\n",
       "      <td>53.722830</td>\n",
       "      <td>-1.860176</td>\n",
       "    </tr>\n",
       "    <tr>\n",
       "      <th>586</th>\n",
       "      <td>02/09/2022</td>\n",
       "      <td>Featherstone</td>\n",
       "      <td>912</td>\n",
       "      <td>53.674631</td>\n",
       "      <td>-1.359178</td>\n",
       "    </tr>\n",
       "    <tr>\n",
       "      <th>587</th>\n",
       "      <td>14/09/2022</td>\n",
       "      <td>Dewsbury</td>\n",
       "      <td>604</td>\n",
       "      <td>53.691720</td>\n",
       "      <td>-1.627689</td>\n",
       "    </tr>\n",
       "  </tbody>\n",
       "</table>\n",
       "<p>588 rows × 5 columns</p>\n",
       "</div>"
      ],
      "text/plain": [
       "           Date     Opponents  Attendance  Opponents Latitude  \\\n",
       "0    02/09/1984      Rochdale        1425           53.616965   \n",
       "1    09/09/1984        Fulham        1145           51.471626   \n",
       "2    23/09/1984       Salford        1159           53.710701   \n",
       "3    14/10/1984       Runcorn        1076           53.341713   \n",
       "4    28/10/1984      Bridgend         826           56.295700   \n",
       "..          ...           ...         ...                 ...   \n",
       "583  24/07/2022    Workington         644           54.643374   \n",
       "584  07/08/2022    Whitehaven         727           54.550728   \n",
       "585  12/08/2022       Halifax         569           53.722830   \n",
       "586  02/09/2022  Featherstone         912           53.674631   \n",
       "587  14/09/2022      Dewsbury         604           53.691720   \n",
       "\n",
       "     Opponents Longitude  \n",
       "0              -2.156708  \n",
       "1              -0.211248  \n",
       "2              -2.098607  \n",
       "3              -2.731298  \n",
       "4              -2.978223  \n",
       "..                   ...  \n",
       "583            -3.549369  \n",
       "584            -3.587463  \n",
       "585            -1.860176  \n",
       "586            -1.359178  \n",
       "587            -1.627689  \n",
       "\n",
       "[588 rows x 5 columns]"
      ]
     },
     "execution_count": 21,
     "metadata": {},
     "output_type": "execute_result"
    }
   ],
   "source": [
    "crowds = get_places(crowds, \"Opponents\")\n",
    "crowds"
   ]
  },
  {
   "cell_type": "code",
   "execution_count": null,
   "metadata": {
    "editable": true,
    "slideshow": {
     "slide_type": ""
    },
    "tags": []
   },
   "outputs": [],
   "source": [
    "stadiums['Miles from Sheffield'] = stadiums.apply(\n",
    "    lambda row: hs.haversine(sheffield_latlong, (row[\"Latitude\"], row[\"Longitude\"]), unit=hs.Unit.MILES), axis=1, result_type=\"expand\"\n",
    ")\n",
    "stadiums\n",
    "\n",
    "crowds"
   ]
  },
  {
   "cell_type": "markdown",
   "metadata": {
    "editable": true,
    "slideshow": {
     "slide_type": ""
    },
    "tags": []
   },
   "source": [
    "## Get Usable Date Information"
   ]
  },
  {
   "cell_type": "code",
   "execution_count": null,
   "metadata": {
    "editable": true,
    "slideshow": {
     "slide_type": ""
    },
    "tags": []
   },
   "outputs": [],
   "source": [
    "crowds['Date'] = pd.to_datetime(crowds['Date'], format=\"%d/%m/%Y\")\n",
    "crowds['Year'] = crowds['Date'].dt.year\n",
    "crowds['Day'] = crowds['Date'].dt.day_name()\n",
    "crowds['Month'] = crowds['Date'].dt.month\n",
    "crowds['Month Name'] = crowds['Date'].dt.month_name()\n",
    "crowds"
   ]
  },
  {
   "cell_type": "code",
   "execution_count": null,
   "metadata": {
    "editable": true,
    "slideshow": {
     "slide_type": ""
    },
    "tags": []
   },
   "outputs": [],
   "source": []
  },
  {
   "cell_type": "markdown",
   "metadata": {
    "editable": true,
    "slideshow": {
     "slide_type": ""
    },
    "tags": []
   },
   "source": [
    "## Saving for later"
   ]
  },
  {
   "cell_type": "code",
   "execution_count": null,
   "metadata": {
    "editable": true,
    "slideshow": {
     "slide_type": ""
    },
    "tags": []
   },
   "outputs": [],
   "source": [
    "crowds.to_csv(\"../data/eagles/crowds_clean.csv\")"
   ]
  },
  {
   "cell_type": "code",
   "execution_count": null,
   "metadata": {
    "editable": true,
    "slideshow": {
     "slide_type": ""
    },
    "tags": []
   },
   "outputs": [],
   "source": []
  },
  {
   "cell_type": "code",
   "execution_count": null,
   "metadata": {
    "editable": true,
    "slideshow": {
     "slide_type": ""
    },
    "tags": []
   },
   "outputs": [],
   "source": []
  },
  {
   "cell_type": "markdown",
   "metadata": {
    "editable": true,
    "slideshow": {
     "slide_type": ""
    },
    "tags": []
   },
   "source": [
    "### Weather in Sheffield\n",
    "\n",
    "Could do daily weather at the correct stadium location but monthly for Sheffield's Weather station will be easier at first\n",
    "\n",
    "#### Possible Data Sources : \n",
    "\n",
    "- https://www.metoffice.gov.uk/research/climate/maps-and-data/historic-station-data saved as [text](../data/eagles/sheffield_montly_weather.csv)\n",
    "- https://api.openweathermap.org/data/3.0/onecall/timemachine?lat=39.099724&lon=-94.578331&dt=1643803200&appid=b112bddb3ca3876644b7c695768ae96d"
   ]
  },
  {
   "cell_type": "code",
   "execution_count": null,
   "metadata": {
    "editable": true,
    "slideshow": {
     "slide_type": ""
    },
    "tags": []
   },
   "outputs": [],
   "source": [
    "sheffield_monthly_weather = pd.read_csv(\"../data/eagles/sheffield_monthly_weather.csv\")\n",
    "sheffield_monthly_weather"
   ]
  },
  {
   "cell_type": "code",
   "execution_count": null,
   "metadata": {
    "editable": true,
    "slideshow": {
     "slide_type": ""
    },
    "tags": []
   },
   "outputs": [],
   "source": []
  },
  {
   "cell_type": "code",
   "execution_count": null,
   "metadata": {
    "editable": true,
    "slideshow": {
     "slide_type": ""
    },
    "tags": []
   },
   "outputs": [],
   "source": [
    "sheffield_monthly_weather.rename(columns={\n",
    "    'yyyy' : \"Year\",\n",
    "    'mm' : \"Month\",\n",
    "    'tmax degC' : \"Max Temperature C\",\n",
    "    'tmin degC' : \"Min Temperature C\",\n",
    "    'rain mm' : \"Rain mm\",\n",
    "},inplace=True)\n",
    "sheffield_monthly_weather"
   ]
  },
  {
   "cell_type": "code",
   "execution_count": null,
   "metadata": {
    "editable": true,
    "slideshow": {
     "slide_type": ""
    },
    "tags": []
   },
   "outputs": [],
   "source": [
    "#result = pd.concat([crowds, sheffield_monthly_weather], axis=1, join=\"inner\")\n",
    "crowds_with_monthly_weather = pd.merge(crowds, sheffield_monthly_weather, how=\"left\", on=[\"Year\", \"Month\"])\n",
    "crowds_with_monthly_weather.to_csv(\"../data/eagles/crowds_with_monthly_weather.csv\", index=False)\n",
    "crowds_with_monthly_weather"
   ]
  },
  {
   "cell_type": "code",
   "execution_count": null,
   "metadata": {
    "editable": true,
    "slideshow": {
     "slide_type": ""
    },
    "tags": []
   },
   "outputs": [],
   "source": []
  },
  {
   "cell_type": "code",
   "execution_count": null,
   "metadata": {
    "editable": true,
    "slideshow": {
     "slide_type": ""
    },
    "tags": []
   },
   "outputs": [],
   "source": []
  },
  {
   "cell_type": "code",
   "execution_count": null,
   "metadata": {
    "editable": true,
    "slideshow": {
     "slide_type": ""
    },
    "tags": []
   },
   "outputs": [],
   "source": []
  },
  {
   "cell_type": "code",
   "execution_count": null,
   "metadata": {},
   "outputs": [],
   "source": [
    " crowds_with_monthly_weather[crowds_with_monthly_weather.isna().any(axis=1)]"
   ]
  },
  {
   "cell_type": "markdown",
   "metadata": {},
   "source": [
    "## Survey Data"
   ]
  },
  {
   "cell_type": "code",
   "execution_count": null,
   "metadata": {},
   "outputs": [],
   "source": [
    "questionnaire = pd.read_csv(\"../data/eagles/questionnaire.csv\")\n",
    "questionnaire"
   ]
  },
  {
   "cell_type": "code",
   "execution_count": null,
   "metadata": {},
   "outputs": [],
   "source": [
    "\n",
    "questionnaire.rename(columns={\n",
    "    'Could you provide your postcode? This will help us understand where people are responding from. ':\"Postcode\",\n",
    "},inplace=True)\n",
    "\n",
    "questionnaire\n"
   ]
  },
  {
   "cell_type": "code",
   "execution_count": null,
   "metadata": {},
   "outputs": [],
   "source": [
    "\n",
    "\n",
    "questionnaire_quantitive = questionnaire[[\n",
    "    questionnaire.columns[1],\n",
    "    questionnaire.columns[2],\n",
    "    questionnaire.columns[3],\n",
    "    questionnaire.columns[14],\n",
    "    questionnaire.columns[15],\n",
    "    questionnaire.columns[16],\n",
    "    questionnaire.columns[17]\n",
    "]]\n",
    "questionnaire_quantitive"
   ]
  },
  {
   "cell_type": "code",
   "execution_count": null,
   "metadata": {},
   "outputs": [],
   "source": [
    "questionnaire_quantitive = get_latlongs(questionnaire_quantitive)\n",
    "questionnaire_quantitive"
   ]
  },
  {
   "cell_type": "code",
   "execution_count": null,
   "metadata": {},
   "outputs": [],
   "source": [
    "questionnaire_quantitive.to_csv(\"../data/eagles/questionnaire_quantitive.csv\", index=False)"
   ]
  },
  {
   "cell_type": "code",
   "execution_count": null,
   "metadata": {},
   "outputs": [],
   "source": []
  }
 ],
 "metadata": {
  "kernelspec": {
   "display_name": "Python 3 (ipykernel)",
   "language": "python",
   "name": "python3"
  },
  "language_info": {
   "codemirror_mode": {
    "name": "ipython",
    "version": 3
   },
   "file_extension": ".py",
   "mimetype": "text/x-python",
   "name": "python",
   "nbconvert_exporter": "python",
   "pygments_lexer": "ipython3",
   "version": "3.10.13"
  }
 },
 "nbformat": 4,
 "nbformat_minor": 4
}
