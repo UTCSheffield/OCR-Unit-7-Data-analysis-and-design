{
 "cells": [
  {
   "cell_type": "markdown",
   "metadata": {},
   "source": [
    "## Rugby League Records \n",
    "This notebook is for exploring the the data from https://rugbyleaguerecords.com\n",
    "\n",
    "The data was scrapped and placed into rugbyleaguerecords.csv\n",
    "\n",
    "The steps below are the same as the cleaning data page can you make it work for  rugbyleaguerecords.csv"
   ]
  },
  {
   "cell_type": "markdown",
   "metadata": {
    "editable": true,
    "slideshow": {
     "slide_type": "slide"
    },
    "tags": []
   },
   "source": [
    "# Be able to investigate client requirements for data analysis\n",
    "# 2.4 Quantitative data analysis\n",
    "\n",
    "* mean\n",
    "* median\n",
    "* standard deviation\n",
    "* range"
   ]
  },
  {
   "cell_type": "markdown",
   "metadata": {
    "editable": true,
    "slideshow": {
     "slide_type": "slide"
    },
    "tags": []
   },
   "source": [
    "## Set up"
   ]
  },
  {
   "cell_type": "code",
   "execution_count": 1,
   "metadata": {
    "editable": true,
    "slideshow": {
     "slide_type": ""
    },
    "tags": []
   },
   "outputs": [],
   "source": [
    "try:\n",
    "    import micropip\n",
    "    await micropip.install([\"pyoliteutils\", \"textblob\"])\n",
    "except:\n",
    "    pass"
   ]
  },
  {
   "cell_type": "code",
   "execution_count": 2,
   "metadata": {
    "editable": true,
    "slideshow": {
     "slide_type": ""
    },
    "tags": []
   },
   "outputs": [],
   "source": [
    "from pyoliteutils import *\n",
    "import pandas as pd"
   ]
  },
  {
   "cell_type": "markdown",
   "metadata": {
    "editable": true,
    "slideshow": {
     "slide_type": ""
    },
    "tags": []
   },
   "source": [
    "## Other useful Opponent / Match Data?\n",
    "\n",
    "### Location of opponents, and distance to Sheffield\n",
    "\n",
    "To be able to put data on a map we will need Latitude and Lngitude,\n",
    "\n",
    "#### Possible Data Sources : \n",
    "- https://api.postcodes.io/places?q=[query]\n",
    "- Nominatum / GeoPy\n",
    "    - https://geopy.readthedocs.io/en/stable/\n",
    "    - https://nominatim.org/release-docs/latest/api/Search/ \n",
    "    - https://medium.com/@gopesh3652/geocoding-with-python-using-nominatim-a-beginners-guide-220b250ca48d \n"
   ]
  },
  {
   "cell_type": "markdown",
   "metadata": {
    "editable": true,
    "slideshow": {
     "slide_type": ""
    },
    "tags": []
   },
   "source": [
    "## Stadium Data"
   ]
  },
  {
   "cell_type": "code",
   "execution_count": 3,
   "metadata": {
    "editable": true,
    "slideshow": {
     "slide_type": ""
    },
    "tags": []
   },
   "outputs": [
    {
     "data": {
      "text/html": [
       "<div>\n",
       "<style scoped>\n",
       "    .dataframe tbody tr th:only-of-type {\n",
       "        vertical-align: middle;\n",
       "    }\n",
       "\n",
       "    .dataframe tbody tr th {\n",
       "        vertical-align: top;\n",
       "    }\n",
       "\n",
       "    .dataframe thead th {\n",
       "        text-align: right;\n",
       "    }\n",
       "</style>\n",
       "<table border=\"1\" class=\"dataframe\">\n",
       "  <thead>\n",
       "    <tr style=\"text-align: right;\">\n",
       "      <th></th>\n",
       "      <th>Stadium</th>\n",
       "      <th>Postcode</th>\n",
       "    </tr>\n",
       "  </thead>\n",
       "  <tbody>\n",
       "    <tr>\n",
       "      <th>0</th>\n",
       "      <td>OWLERTON</td>\n",
       "      <td>S6 2DE</td>\n",
       "    </tr>\n",
       "    <tr>\n",
       "      <th>1</th>\n",
       "      <td>MILLMOOR</td>\n",
       "      <td>S60 1HB</td>\n",
       "    </tr>\n",
       "    <tr>\n",
       "      <th>2</th>\n",
       "      <td>HEADINGLEY</td>\n",
       "      <td>LS6 3BR</td>\n",
       "    </tr>\n",
       "    <tr>\n",
       "      <th>3</th>\n",
       "      <td>BRAMALL LANE</td>\n",
       "      <td>S2 4QX</td>\n",
       "    </tr>\n",
       "    <tr>\n",
       "      <th>4</th>\n",
       "      <td>HILLSBOROUGH</td>\n",
       "      <td>S6 1SW</td>\n",
       "    </tr>\n",
       "    <tr>\n",
       "      <th>5</th>\n",
       "      <td>OAKWELL</td>\n",
       "      <td>S71 1ET</td>\n",
       "    </tr>\n",
       "    <tr>\n",
       "      <th>6</th>\n",
       "      <td>BELLE VUE</td>\n",
       "      <td>DN4 5DX</td>\n",
       "    </tr>\n",
       "    <tr>\n",
       "      <th>7</th>\n",
       "      <td>SALTERGATE</td>\n",
       "      <td>S40 4SX</td>\n",
       "    </tr>\n",
       "    <tr>\n",
       "      <th>8</th>\n",
       "      <td>TATTERSFIELD</td>\n",
       "      <td>DN4 5JW</td>\n",
       "    </tr>\n",
       "    <tr>\n",
       "      <th>9</th>\n",
       "      <td>THRUM HALL</td>\n",
       "      <td>HX1 4LG</td>\n",
       "    </tr>\n",
       "    <tr>\n",
       "      <th>10</th>\n",
       "      <td>DON VALLEY</td>\n",
       "      <td>S9 3TL</td>\n",
       "    </tr>\n",
       "    <tr>\n",
       "      <th>11</th>\n",
       "      <td>KEEPMOAT</td>\n",
       "      <td>DN4 5JW</td>\n",
       "    </tr>\n",
       "    <tr>\n",
       "      <th>12</th>\n",
       "      <td>HALLAM S P</td>\n",
       "      <td>S9 3HL</td>\n",
       "    </tr>\n",
       "    <tr>\n",
       "      <th>13</th>\n",
       "      <td>O L P</td>\n",
       "      <td>S9 3TL</td>\n",
       "    </tr>\n",
       "    <tr>\n",
       "      <th>14</th>\n",
       "      <td>CARDIFF ARMS PARK</td>\n",
       "      <td>CF10 1JA</td>\n",
       "    </tr>\n",
       "    <tr>\n",
       "      <th>15</th>\n",
       "      <td>CLIFTON LANE</td>\n",
       "      <td>S65 2AA</td>\n",
       "    </tr>\n",
       "    <tr>\n",
       "      <th>16</th>\n",
       "      <td>WOODBURN</td>\n",
       "      <td>S9 3HL</td>\n",
       "    </tr>\n",
       "    <tr>\n",
       "      <th>17</th>\n",
       "      <td>MOUNT ST</td>\n",
       "      <td>SO14 5FP</td>\n",
       "    </tr>\n",
       "    <tr>\n",
       "      <th>18</th>\n",
       "      <td>MARY CASTLE’S PARK</td>\n",
       "      <td>DN2 5QB</td>\n",
       "    </tr>\n",
       "    <tr>\n",
       "      <th>19</th>\n",
       "      <td>POST OFFICE ROAD</td>\n",
       "      <td>WF7 5EP</td>\n",
       "    </tr>\n",
       "  </tbody>\n",
       "</table>\n",
       "</div>"
      ],
      "text/plain": [
       "               Stadium  Postcode\n",
       "0             OWLERTON    S6 2DE\n",
       "1             MILLMOOR   S60 1HB\n",
       "2           HEADINGLEY   LS6 3BR\n",
       "3         BRAMALL LANE    S2 4QX\n",
       "4         HILLSBOROUGH    S6 1SW\n",
       "5              OAKWELL   S71 1ET\n",
       "6            BELLE VUE   DN4 5DX\n",
       "7           SALTERGATE   S40 4SX\n",
       "8         TATTERSFIELD   DN4 5JW\n",
       "9           THRUM HALL   HX1 4LG\n",
       "10          DON VALLEY    S9 3TL\n",
       "11            KEEPMOAT   DN4 5JW\n",
       "12          HALLAM S P    S9 3HL\n",
       "13               O L P    S9 3TL\n",
       "14   CARDIFF ARMS PARK  CF10 1JA\n",
       "15        CLIFTON LANE   S65 2AA\n",
       "16            WOODBURN    S9 3HL\n",
       "17            MOUNT ST  SO14 5FP\n",
       "18  MARY CASTLE’S PARK   DN2 5QB\n",
       "19    POST OFFICE ROAD   WF7 5EP"
      ]
     },
     "execution_count": 3,
     "metadata": {},
     "output_type": "execute_result"
    }
   ],
   "source": [
    "stadiums = pd.read_csv(\"../data/eagles/stadiums.csv\")\n",
    "stadiums"
   ]
  },
  {
   "cell_type": "markdown",
   "metadata": {
    "editable": true,
    "slideshow": {
     "slide_type": ""
    },
    "tags": []
   },
   "source": [
    "## Adding the Latitude & Longitude"
   ]
  },
  {
   "cell_type": "code",
   "execution_count": 4,
   "metadata": {
    "editable": true,
    "slideshow": {
     "slide_type": ""
    },
    "tags": []
   },
   "outputs": [],
   "source": [
    "import postcodes_io_api\n",
    "\n",
    "class Api2(postcodes_io_api.Api): # Extends the postcodes_io_api to include the place query available online\n",
    "        def places_query(self, place):\n",
    "            \"\"\"\n",
    "            This method returns data for a place\n",
    "            * **:param place** - postcode to check i.e. 'Sheffield'\n",
    "            * **::return** - detailed data\n",
    "            ```\n",
    "              data = api.places_query('Sheffield')\n",
    "        \n",
    "            ```\n",
    "            \"\"\"\n",
    "            url = '/places?q={place}'.format(place=place)\n",
    "            response = self._make_request('GET', url)\n",
    "            data = self._parse_json_data(response.content.decode('utf-8'))\n",
    "            return data\n",
    "\n",
    "api  = Api2()\n",
    "\n",
    "def get_place(place):\n",
    "    latitude = None\n",
    "    longitude = None\n",
    "    \n",
    "    data = api.places_query(place)\n",
    "    #print(\"data\", data)\n",
    "    \n",
    "    if data[\"status\"] == 200 and len(data[\"result\"]):   \n",
    "        # Gets the data from the first item in the returned list\n",
    "        if \"latitude\" in data[\"result\"][0]:\n",
    "            latitude = data[\"result\"][0][\"latitude\"]\n",
    "            longitude = data[\"result\"][0][\"longitude\"]\n",
    "    #print(\"latitude, longitude\", latitude, longitude)\n",
    "    return latitude, longitude\n",
    "\n",
    "def get_latlong(postcode):\n",
    "    latitude = None\n",
    "    longitude = None\n",
    "\n",
    "    # Look up postcode\n",
    "    data = api.get_postcode(postcode)\n",
    "    #print(\"data\", data)\n",
    "    if data[\"status\"] != 200 :\n",
    "        # if postcode look up fails try looking it upo as just the first bit (outcode)\n",
    "        data = api.get_outcode(postcode)\n",
    "    \n",
    "    if data[\"status\"] == 200 :        \n",
    "        if \"latitude\" in data[\"result\"]:\n",
    "            latitude = data[\"result\"][\"latitude\"]\n",
    "            longitude = data[\"result\"][\"longitude\"]\n",
    "    #print(\"latitude, longitude\", latitude, longitude)\n",
    "    return latitude, longitude\n",
    "    \n",
    "def get_latlongs(df):\n",
    "    if (\"Latitude\" not in df) and (\"Postcode\" in df):    \n",
    "      try:\n",
    "        df[[\"Latitude\", \"Longitude\"]] = df.apply(\n",
    "            lambda row: get_latlong(row[\"Postcode\"]), axis=1, result_type=\"expand\"\n",
    "        )\n",
    "      except Exception as e:\n",
    "          print('Postcode Conversion failed : '+ str(e))\n",
    "    return df\n",
    "\n",
    "def get_places(df, field_name):\n",
    "    if (\"Latitude\" not in df) and (field_name in df):    \n",
    "      try:\n",
    "        df[[field_name + \" Latitude\", field_name + \" Longitude\"]] = df.apply(\n",
    "            lambda row: get_place(row[field_name]), axis=1, result_type=\"expand\"\n",
    "        )\n",
    "      except Exception as e:\n",
    "          print('Place  Conversion failed : '+ str(e))\n",
    "    return df"
   ]
  },
  {
   "cell_type": "code",
   "execution_count": 5,
   "metadata": {
    "editable": true,
    "slideshow": {
     "slide_type": ""
    },
    "tags": []
   },
   "outputs": [
    {
     "data": {
      "text/html": [
       "<div>\n",
       "<style scoped>\n",
       "    .dataframe tbody tr th:only-of-type {\n",
       "        vertical-align: middle;\n",
       "    }\n",
       "\n",
       "    .dataframe tbody tr th {\n",
       "        vertical-align: top;\n",
       "    }\n",
       "\n",
       "    .dataframe thead th {\n",
       "        text-align: right;\n",
       "    }\n",
       "</style>\n",
       "<table border=\"1\" class=\"dataframe\">\n",
       "  <thead>\n",
       "    <tr style=\"text-align: right;\">\n",
       "      <th></th>\n",
       "      <th>Stadium</th>\n",
       "      <th>Postcode</th>\n",
       "      <th>Latitude</th>\n",
       "      <th>Longitude</th>\n",
       "    </tr>\n",
       "  </thead>\n",
       "  <tbody>\n",
       "    <tr>\n",
       "      <th>0</th>\n",
       "      <td>OWLERTON</td>\n",
       "      <td>S6 2DE</td>\n",
       "      <td>53.406031</td>\n",
       "      <td>-1.493303</td>\n",
       "    </tr>\n",
       "    <tr>\n",
       "      <th>1</th>\n",
       "      <td>MILLMOOR</td>\n",
       "      <td>S60 1HB</td>\n",
       "      <td>53.428758</td>\n",
       "      <td>-1.369397</td>\n",
       "    </tr>\n",
       "    <tr>\n",
       "      <th>2</th>\n",
       "      <td>HEADINGLEY</td>\n",
       "      <td>LS6 3BR</td>\n",
       "      <td>53.816081</td>\n",
       "      <td>-1.580617</td>\n",
       "    </tr>\n",
       "    <tr>\n",
       "      <th>3</th>\n",
       "      <td>BRAMALL LANE</td>\n",
       "      <td>S2 4QX</td>\n",
       "      <td>53.371341</td>\n",
       "      <td>-1.469862</td>\n",
       "    </tr>\n",
       "    <tr>\n",
       "      <th>4</th>\n",
       "      <td>HILLSBOROUGH</td>\n",
       "      <td>S6 1SW</td>\n",
       "      <td>53.410844</td>\n",
       "      <td>-1.500859</td>\n",
       "    </tr>\n",
       "    <tr>\n",
       "      <th>5</th>\n",
       "      <td>OAKWELL</td>\n",
       "      <td>S71 1ET</td>\n",
       "      <td>53.552266</td>\n",
       "      <td>-1.468631</td>\n",
       "    </tr>\n",
       "    <tr>\n",
       "      <th>6</th>\n",
       "      <td>BELLE VUE</td>\n",
       "      <td>DN4 5DX</td>\n",
       "      <td>53.517626</td>\n",
       "      <td>-1.108750</td>\n",
       "    </tr>\n",
       "    <tr>\n",
       "      <th>7</th>\n",
       "      <td>SALTERGATE</td>\n",
       "      <td>S40 4SX</td>\n",
       "      <td>53.238963</td>\n",
       "      <td>-1.434745</td>\n",
       "    </tr>\n",
       "    <tr>\n",
       "      <th>8</th>\n",
       "      <td>TATTERSFIELD</td>\n",
       "      <td>DN4 5JW</td>\n",
       "      <td>53.509088</td>\n",
       "      <td>-1.113845</td>\n",
       "    </tr>\n",
       "    <tr>\n",
       "      <th>9</th>\n",
       "      <td>THRUM HALL</td>\n",
       "      <td>HX1 4LG</td>\n",
       "      <td>53.721864</td>\n",
       "      <td>-1.884001</td>\n",
       "    </tr>\n",
       "    <tr>\n",
       "      <th>10</th>\n",
       "      <td>DON VALLEY</td>\n",
       "      <td>S9 3TL</td>\n",
       "      <td>53.395919</td>\n",
       "      <td>-1.425961</td>\n",
       "    </tr>\n",
       "    <tr>\n",
       "      <th>11</th>\n",
       "      <td>KEEPMOAT</td>\n",
       "      <td>DN4 5JW</td>\n",
       "      <td>53.509088</td>\n",
       "      <td>-1.113845</td>\n",
       "    </tr>\n",
       "    <tr>\n",
       "      <th>12</th>\n",
       "      <td>HALLAM S P</td>\n",
       "      <td>S9 3HL</td>\n",
       "      <td>53.389960</td>\n",
       "      <td>-1.431634</td>\n",
       "    </tr>\n",
       "    <tr>\n",
       "      <th>13</th>\n",
       "      <td>O L P</td>\n",
       "      <td>S9 3TL</td>\n",
       "      <td>53.395919</td>\n",
       "      <td>-1.425961</td>\n",
       "    </tr>\n",
       "    <tr>\n",
       "      <th>14</th>\n",
       "      <td>CARDIFF ARMS PARK</td>\n",
       "      <td>CF10 1JA</td>\n",
       "      <td>51.479971</td>\n",
       "      <td>-3.183833</td>\n",
       "    </tr>\n",
       "    <tr>\n",
       "      <th>15</th>\n",
       "      <td>CLIFTON LANE</td>\n",
       "      <td>S65 2AA</td>\n",
       "      <td>53.429825</td>\n",
       "      <td>-1.348792</td>\n",
       "    </tr>\n",
       "    <tr>\n",
       "      <th>16</th>\n",
       "      <td>WOODBURN</td>\n",
       "      <td>S9 3HL</td>\n",
       "      <td>53.389960</td>\n",
       "      <td>-1.431634</td>\n",
       "    </tr>\n",
       "    <tr>\n",
       "      <th>17</th>\n",
       "      <td>MOUNT ST</td>\n",
       "      <td>SO14 5FP</td>\n",
       "      <td>50.906530</td>\n",
       "      <td>-1.390823</td>\n",
       "    </tr>\n",
       "    <tr>\n",
       "      <th>18</th>\n",
       "      <td>MARY CASTLE’S PARK</td>\n",
       "      <td>DN2 5QB</td>\n",
       "      <td>53.532740</td>\n",
       "      <td>-1.079900</td>\n",
       "    </tr>\n",
       "    <tr>\n",
       "      <th>19</th>\n",
       "      <td>POST OFFICE ROAD</td>\n",
       "      <td>WF7 5EP</td>\n",
       "      <td>53.677887</td>\n",
       "      <td>-1.355116</td>\n",
       "    </tr>\n",
       "  </tbody>\n",
       "</table>\n",
       "</div>"
      ],
      "text/plain": [
       "               Stadium  Postcode   Latitude  Longitude\n",
       "0             OWLERTON    S6 2DE  53.406031  -1.493303\n",
       "1             MILLMOOR   S60 1HB  53.428758  -1.369397\n",
       "2           HEADINGLEY   LS6 3BR  53.816081  -1.580617\n",
       "3         BRAMALL LANE    S2 4QX  53.371341  -1.469862\n",
       "4         HILLSBOROUGH    S6 1SW  53.410844  -1.500859\n",
       "5              OAKWELL   S71 1ET  53.552266  -1.468631\n",
       "6            BELLE VUE   DN4 5DX  53.517626  -1.108750\n",
       "7           SALTERGATE   S40 4SX  53.238963  -1.434745\n",
       "8         TATTERSFIELD   DN4 5JW  53.509088  -1.113845\n",
       "9           THRUM HALL   HX1 4LG  53.721864  -1.884001\n",
       "10          DON VALLEY    S9 3TL  53.395919  -1.425961\n",
       "11            KEEPMOAT   DN4 5JW  53.509088  -1.113845\n",
       "12          HALLAM S P    S9 3HL  53.389960  -1.431634\n",
       "13               O L P    S9 3TL  53.395919  -1.425961\n",
       "14   CARDIFF ARMS PARK  CF10 1JA  51.479971  -3.183833\n",
       "15        CLIFTON LANE   S65 2AA  53.429825  -1.348792\n",
       "16            WOODBURN    S9 3HL  53.389960  -1.431634\n",
       "17            MOUNT ST  SO14 5FP  50.906530  -1.390823\n",
       "18  MARY CASTLE’S PARK   DN2 5QB  53.532740  -1.079900\n",
       "19    POST OFFICE ROAD   WF7 5EP  53.677887  -1.355116"
      ]
     },
     "execution_count": 5,
     "metadata": {},
     "output_type": "execute_result"
    }
   ],
   "source": [
    "stadiums = get_latlongs(stadiums)\n",
    "stadiums"
   ]
  },
  {
   "cell_type": "markdown",
   "metadata": {
    "editable": true,
    "slideshow": {
     "slide_type": ""
    },
    "tags": []
   },
   "source": [
    "## Calculating Distance from Sheffield"
   ]
  },
  {
   "cell_type": "code",
   "execution_count": 6,
   "metadata": {
    "editable": true,
    "slideshow": {
     "slide_type": ""
    },
    "tags": []
   },
   "outputs": [
    {
     "data": {
      "text/html": [
       "<div>\n",
       "<style scoped>\n",
       "    .dataframe tbody tr th:only-of-type {\n",
       "        vertical-align: middle;\n",
       "    }\n",
       "\n",
       "    .dataframe tbody tr th {\n",
       "        vertical-align: top;\n",
       "    }\n",
       "\n",
       "    .dataframe thead th {\n",
       "        text-align: right;\n",
       "    }\n",
       "</style>\n",
       "<table border=\"1\" class=\"dataframe\">\n",
       "  <thead>\n",
       "    <tr style=\"text-align: right;\">\n",
       "      <th></th>\n",
       "      <th>Stadium</th>\n",
       "      <th>Postcode</th>\n",
       "      <th>Latitude</th>\n",
       "      <th>Longitude</th>\n",
       "      <th>Miles from Sheffield</th>\n",
       "    </tr>\n",
       "  </thead>\n",
       "  <tbody>\n",
       "    <tr>\n",
       "      <th>0</th>\n",
       "      <td>OWLERTON</td>\n",
       "      <td>S6 2DE</td>\n",
       "      <td>53.406031</td>\n",
       "      <td>-1.493303</td>\n",
       "      <td>1.918934</td>\n",
       "    </tr>\n",
       "    <tr>\n",
       "      <th>1</th>\n",
       "      <td>MILLMOOR</td>\n",
       "      <td>S60 1HB</td>\n",
       "      <td>53.428758</td>\n",
       "      <td>-1.369397</td>\n",
       "      <td>5.185172</td>\n",
       "    </tr>\n",
       "    <tr>\n",
       "      <th>2</th>\n",
       "      <td>HEADINGLEY</td>\n",
       "      <td>LS6 3BR</td>\n",
       "      <td>53.816081</td>\n",
       "      <td>-1.580617</td>\n",
       "      <td>30.307328</td>\n",
       "    </tr>\n",
       "    <tr>\n",
       "      <th>3</th>\n",
       "      <td>BRAMALL LANE</td>\n",
       "      <td>S2 4QX</td>\n",
       "      <td>53.371341</td>\n",
       "      <td>-1.469862</td>\n",
       "      <td>0.773637</td>\n",
       "    </tr>\n",
       "    <tr>\n",
       "      <th>4</th>\n",
       "      <td>HILLSBOROUGH</td>\n",
       "      <td>S6 1SW</td>\n",
       "      <td>53.410844</td>\n",
       "      <td>-1.500859</td>\n",
       "      <td>2.367659</td>\n",
       "    </tr>\n",
       "    <tr>\n",
       "      <th>5</th>\n",
       "      <td>OAKWELL</td>\n",
       "      <td>S71 1ET</td>\n",
       "      <td>53.552266</td>\n",
       "      <td>-1.468631</td>\n",
       "      <td>11.729022</td>\n",
       "    </tr>\n",
       "    <tr>\n",
       "      <th>6</th>\n",
       "      <td>BELLE VUE</td>\n",
       "      <td>DN4 5DX</td>\n",
       "      <td>53.517626</td>\n",
       "      <td>-1.108750</td>\n",
       "      <td>17.501780</td>\n",
       "    </tr>\n",
       "    <tr>\n",
       "      <th>7</th>\n",
       "      <td>SALTERGATE</td>\n",
       "      <td>S40 4SX</td>\n",
       "      <td>53.238963</td>\n",
       "      <td>-1.434745</td>\n",
       "      <td>10.015773</td>\n",
       "    </tr>\n",
       "    <tr>\n",
       "      <th>8</th>\n",
       "      <td>TATTERSFIELD</td>\n",
       "      <td>DN4 5JW</td>\n",
       "      <td>53.509088</td>\n",
       "      <td>-1.113845</td>\n",
       "      <td>17.015450</td>\n",
       "    </tr>\n",
       "    <tr>\n",
       "      <th>9</th>\n",
       "      <td>THRUM HALL</td>\n",
       "      <td>HX1 4LG</td>\n",
       "      <td>53.721864</td>\n",
       "      <td>-1.884001</td>\n",
       "      <td>28.993035</td>\n",
       "    </tr>\n",
       "    <tr>\n",
       "      <th>10</th>\n",
       "      <td>DON VALLEY</td>\n",
       "      <td>S9 3TL</td>\n",
       "      <td>53.395919</td>\n",
       "      <td>-1.425961</td>\n",
       "      <td>1.983961</td>\n",
       "    </tr>\n",
       "    <tr>\n",
       "      <th>11</th>\n",
       "      <td>KEEPMOAT</td>\n",
       "      <td>DN4 5JW</td>\n",
       "      <td>53.509088</td>\n",
       "      <td>-1.113845</td>\n",
       "      <td>17.015450</td>\n",
       "    </tr>\n",
       "    <tr>\n",
       "      <th>12</th>\n",
       "      <td>HALLAM S P</td>\n",
       "      <td>S9 3HL</td>\n",
       "      <td>53.389960</td>\n",
       "      <td>-1.431634</td>\n",
       "      <td>1.605455</td>\n",
       "    </tr>\n",
       "    <tr>\n",
       "      <th>13</th>\n",
       "      <td>O L P</td>\n",
       "      <td>S9 3TL</td>\n",
       "      <td>53.395919</td>\n",
       "      <td>-1.425961</td>\n",
       "      <td>1.983961</td>\n",
       "    </tr>\n",
       "    <tr>\n",
       "      <th>14</th>\n",
       "      <td>CARDIFF ARMS PARK</td>\n",
       "      <td>CF10 1JA</td>\n",
       "      <td>51.479971</td>\n",
       "      <td>-3.183833</td>\n",
       "      <td>149.994349</td>\n",
       "    </tr>\n",
       "    <tr>\n",
       "      <th>15</th>\n",
       "      <td>CLIFTON LANE</td>\n",
       "      <td>S65 2AA</td>\n",
       "      <td>53.429825</td>\n",
       "      <td>-1.348792</td>\n",
       "      <td>5.917247</td>\n",
       "    </tr>\n",
       "    <tr>\n",
       "      <th>16</th>\n",
       "      <td>WOODBURN</td>\n",
       "      <td>S9 3HL</td>\n",
       "      <td>53.389960</td>\n",
       "      <td>-1.431634</td>\n",
       "      <td>1.605455</td>\n",
       "    </tr>\n",
       "    <tr>\n",
       "      <th>17</th>\n",
       "      <td>MOUNT ST</td>\n",
       "      <td>SO14 5FP</td>\n",
       "      <td>50.906530</td>\n",
       "      <td>-1.390823</td>\n",
       "      <td>171.105628</td>\n",
       "    </tr>\n",
       "    <tr>\n",
       "      <th>18</th>\n",
       "      <td>MARY CASTLE’S PARK</td>\n",
       "      <td>DN2 5QB</td>\n",
       "      <td>53.532740</td>\n",
       "      <td>-1.079900</td>\n",
       "      <td>19.062155</td>\n",
       "    </tr>\n",
       "    <tr>\n",
       "      <th>19</th>\n",
       "      <td>POST OFFICE ROAD</td>\n",
       "      <td>WF7 5EP</td>\n",
       "      <td>53.677887</td>\n",
       "      <td>-1.355116</td>\n",
       "      <td>20.933431</td>\n",
       "    </tr>\n",
       "  </tbody>\n",
       "</table>\n",
       "</div>"
      ],
      "text/plain": [
       "               Stadium  Postcode   Latitude  Longitude  Miles from Sheffield\n",
       "0             OWLERTON    S6 2DE  53.406031  -1.493303              1.918934\n",
       "1             MILLMOOR   S60 1HB  53.428758  -1.369397              5.185172\n",
       "2           HEADINGLEY   LS6 3BR  53.816081  -1.580617             30.307328\n",
       "3         BRAMALL LANE    S2 4QX  53.371341  -1.469862              0.773637\n",
       "4         HILLSBOROUGH    S6 1SW  53.410844  -1.500859              2.367659\n",
       "5              OAKWELL   S71 1ET  53.552266  -1.468631             11.729022\n",
       "6            BELLE VUE   DN4 5DX  53.517626  -1.108750             17.501780\n",
       "7           SALTERGATE   S40 4SX  53.238963  -1.434745             10.015773\n",
       "8         TATTERSFIELD   DN4 5JW  53.509088  -1.113845             17.015450\n",
       "9           THRUM HALL   HX1 4LG  53.721864  -1.884001             28.993035\n",
       "10          DON VALLEY    S9 3TL  53.395919  -1.425961              1.983961\n",
       "11            KEEPMOAT   DN4 5JW  53.509088  -1.113845             17.015450\n",
       "12          HALLAM S P    S9 3HL  53.389960  -1.431634              1.605455\n",
       "13               O L P    S9 3TL  53.395919  -1.425961              1.983961\n",
       "14   CARDIFF ARMS PARK  CF10 1JA  51.479971  -3.183833            149.994349\n",
       "15        CLIFTON LANE   S65 2AA  53.429825  -1.348792              5.917247\n",
       "16            WOODBURN    S9 3HL  53.389960  -1.431634              1.605455\n",
       "17            MOUNT ST  SO14 5FP  50.906530  -1.390823            171.105628\n",
       "18  MARY CASTLE’S PARK   DN2 5QB  53.532740  -1.079900             19.062155\n",
       "19    POST OFFICE ROAD   WF7 5EP  53.677887  -1.355116             20.933431"
      ]
     },
     "execution_count": 6,
     "metadata": {},
     "output_type": "execute_result"
    }
   ],
   "source": [
    "#https://towardsdatascience.com/calculating-distance-between-two-geolocations-in-python-26ad3afe287b\n",
    "\n",
    "sheffield_latlong = get_place(\"Sheffield\")\n",
    "import haversine as hs\n",
    "\n",
    "#stadiums['dist_from_sheffield'] = hs.haversine(sheffield_latlong, (stadiums[\"Latitude\"], stadiums[\"Longitude\"]), unit=Unit.MILES)\n",
    "\n",
    "stadiums['Miles from Sheffield'] = stadiums.apply(\n",
    "    lambda row: hs.haversine(sheffield_latlong, (row[\"Latitude\"], row[\"Longitude\"]), unit=hs.Unit.MILES), axis=1, result_type=\"expand\"\n",
    ")\n",
    "stadiums"
   ]
  },
  {
   "cell_type": "code",
   "execution_count": 7,
   "metadata": {
    "editable": true,
    "slideshow": {
     "slide_type": ""
    },
    "tags": []
   },
   "outputs": [],
   "source": [
    "#Save for later \n",
    "stadiums.to_csv(\"../data/eagles/stadiums_with_latlong.csv\", index=False)"
   ]
  },
  {
   "cell_type": "markdown",
   "metadata": {
    "editable": true,
    "slideshow": {
     "slide_type": "slide"
    },
    "tags": []
   },
   "source": [
    "## Crowd / Attendance Data"
   ]
  },
  {
   "cell_type": "code",
   "execution_count": 8,
   "metadata": {
    "editable": true,
    "slideshow": {
     "slide_type": ""
    },
    "tags": []
   },
   "outputs": [
    {
     "data": {
      "text/html": [
       "<div>\n",
       "<style scoped>\n",
       "    .dataframe tbody tr th:only-of-type {\n",
       "        vertical-align: middle;\n",
       "    }\n",
       "\n",
       "    .dataframe tbody tr th {\n",
       "        vertical-align: top;\n",
       "    }\n",
       "\n",
       "    .dataframe thead th {\n",
       "        text-align: right;\n",
       "    }\n",
       "</style>\n",
       "<table border=\"1\" class=\"dataframe\">\n",
       "  <thead>\n",
       "    <tr style=\"text-align: right;\">\n",
       "      <th></th>\n",
       "      <th>Season</th>\n",
       "      <th>Match Date</th>\n",
       "      <th>Home Score</th>\n",
       "      <th>Home Team</th>\n",
       "      <th>Away Score</th>\n",
       "      <th>Away Team</th>\n",
       "      <th>Competition</th>\n",
       "      <th>Attendance</th>\n",
       "      <th>Venue</th>\n",
       "      <th>Referee</th>\n",
       "    </tr>\n",
       "  </thead>\n",
       "  <tbody>\n",
       "    <tr>\n",
       "      <th>0</th>\n",
       "      <td>1984-85</td>\n",
       "      <td>Sunday, 2nd September 1984</td>\n",
       "      <td>29</td>\n",
       "      <td>Sheffield Eagles</td>\n",
       "      <td>10</td>\n",
       "      <td>Rochdale Hornets</td>\n",
       "      <td>League 2</td>\n",
       "      <td>1425</td>\n",
       "      <td>Owlerton Stadium, Sheffield, England</td>\n",
       "      <td>Fred Lindop</td>\n",
       "    </tr>\n",
       "    <tr>\n",
       "      <th>1</th>\n",
       "      <td>1984-85</td>\n",
       "      <td>Sunday, 9th September 1984</td>\n",
       "      <td>14</td>\n",
       "      <td>Sheffield Eagles</td>\n",
       "      <td>18</td>\n",
       "      <td>Fulham</td>\n",
       "      <td>League 2</td>\n",
       "      <td>1145</td>\n",
       "      <td>Owlerton Stadium, Sheffield, England</td>\n",
       "      <td>Jeff Croft</td>\n",
       "    </tr>\n",
       "    <tr>\n",
       "      <th>2</th>\n",
       "      <td>1984-85</td>\n",
       "      <td>Thursday, 20th September 1984</td>\n",
       "      <td>13</td>\n",
       "      <td>Runcorn Highfield</td>\n",
       "      <td>6</td>\n",
       "      <td>Sheffield Eagles</td>\n",
       "      <td>League 2</td>\n",
       "      <td>NaN</td>\n",
       "      <td>NaN</td>\n",
       "      <td>NaN</td>\n",
       "    </tr>\n",
       "    <tr>\n",
       "      <th>3</th>\n",
       "      <td>1984-85</td>\n",
       "      <td>Sunday, 23rd September 1984</td>\n",
       "      <td>6</td>\n",
       "      <td>Sheffield Eagles</td>\n",
       "      <td>13</td>\n",
       "      <td>Salford</td>\n",
       "      <td>League 2</td>\n",
       "      <td>1159</td>\n",
       "      <td>Owlerton Stadium, Sheffield, England</td>\n",
       "      <td>John McDonald</td>\n",
       "    </tr>\n",
       "    <tr>\n",
       "      <th>4</th>\n",
       "      <td>1984-85</td>\n",
       "      <td>Sunday, 30th September 1984</td>\n",
       "      <td>18</td>\n",
       "      <td>Doncaster</td>\n",
       "      <td>10</td>\n",
       "      <td>Sheffield Eagles</td>\n",
       "      <td>League 2</td>\n",
       "      <td>NaN</td>\n",
       "      <td>NaN</td>\n",
       "      <td>NaN</td>\n",
       "    </tr>\n",
       "    <tr>\n",
       "      <th>...</th>\n",
       "      <td>...</td>\n",
       "      <td>...</td>\n",
       "      <td>...</td>\n",
       "      <td>...</td>\n",
       "      <td>...</td>\n",
       "      <td>...</td>\n",
       "      <td>...</td>\n",
       "      <td>...</td>\n",
       "      <td>...</td>\n",
       "      <td>...</td>\n",
       "    </tr>\n",
       "    <tr>\n",
       "      <th>1231</th>\n",
       "      <td>2024</td>\n",
       "      <td>Sunday, 25th February 2024</td>\n",
       "      <td>16</td>\n",
       "      <td>York Knights</td>\n",
       "      <td>32</td>\n",
       "      <td>Sheffield Eagles</td>\n",
       "      <td>Challenge Cup 4 (64)</td>\n",
       "      <td>LNER Community Stadium York England</td>\n",
       "      <td>Referee: Liam Rush</td>\n",
       "      <td>NaN</td>\n",
       "    </tr>\n",
       "    <tr>\n",
       "      <th>1232</th>\n",
       "      <td>2024</td>\n",
       "      <td>Sunday, 3rd March 2024</td>\n",
       "      <td>26</td>\n",
       "      <td>Sheffield Eagles</td>\n",
       "      <td>10</td>\n",
       "      <td>Batley Bulldogs</td>\n",
       "      <td>1895 Cup Quarter Final</td>\n",
       "      <td>727</td>\n",
       "      <td>Sheffield Olympic Legacy Park, Sheffield, England</td>\n",
       "      <td>Marcus Griffiths</td>\n",
       "    </tr>\n",
       "    <tr>\n",
       "      <th>1233</th>\n",
       "      <td>2024</td>\n",
       "      <td>Saturday, 9th March 2024</td>\n",
       "      <td>12</td>\n",
       "      <td>Swinton Lions</td>\n",
       "      <td>14</td>\n",
       "      <td>Sheffield Eagles</td>\n",
       "      <td>Challenge Cup 5 (32)</td>\n",
       "      <td>412</td>\n",
       "      <td>Heywood Road, Sale, England</td>\n",
       "      <td>Marcus Griffiths</td>\n",
       "    </tr>\n",
       "    <tr>\n",
       "      <th>1234</th>\n",
       "      <td>2024</td>\n",
       "      <td>Friday, 15th March 2024</td>\n",
       "      <td>24</td>\n",
       "      <td>Sheffield Eagles</td>\n",
       "      <td>22</td>\n",
       "      <td>Toulouse Olympique</td>\n",
       "      <td>League 2</td>\n",
       "      <td>794</td>\n",
       "      <td>Sheffield Olympic Legacy Park, Sheffield, England</td>\n",
       "      <td>Michael Smaill</td>\n",
       "    </tr>\n",
       "    <tr>\n",
       "      <th>1235</th>\n",
       "      <td>2024</td>\n",
       "      <td>Friday, 22nd March 2024</td>\n",
       "      <td>44</td>\n",
       "      <td>Wigan Warriors</td>\n",
       "      <td>18</td>\n",
       "      <td>Sheffield Eagles</td>\n",
       "      <td>Challenge Cup 6 (16)</td>\n",
       "      <td>5733</td>\n",
       "      <td>DW Stadium, Wigan, England</td>\n",
       "      <td>James Vella</td>\n",
       "    </tr>\n",
       "  </tbody>\n",
       "</table>\n",
       "<p>1236 rows × 10 columns</p>\n",
       "</div>"
      ],
      "text/plain": [
       "       Season                     Match Date  Home Score          Home Team  \\\n",
       "0     1984-85     Sunday, 2nd September 1984          29   Sheffield Eagles   \n",
       "1     1984-85     Sunday, 9th September 1984          14   Sheffield Eagles   \n",
       "2     1984-85  Thursday, 20th September 1984          13  Runcorn Highfield   \n",
       "3     1984-85    Sunday, 23rd September 1984           6   Sheffield Eagles   \n",
       "4     1984-85    Sunday, 30th September 1984          18          Doncaster   \n",
       "...       ...                            ...         ...                ...   \n",
       "1231     2024     Sunday, 25th February 2024          16       York Knights   \n",
       "1232     2024         Sunday, 3rd March 2024          26   Sheffield Eagles   \n",
       "1233     2024       Saturday, 9th March 2024          12      Swinton Lions   \n",
       "1234     2024        Friday, 15th March 2024          24   Sheffield Eagles   \n",
       "1235     2024        Friday, 22nd March 2024          44     Wigan Warriors   \n",
       "\n",
       "      Away Score           Away Team             Competition  \\\n",
       "0             10    Rochdale Hornets                League 2   \n",
       "1             18              Fulham                League 2   \n",
       "2              6    Sheffield Eagles                League 2   \n",
       "3             13             Salford                League 2   \n",
       "4             10    Sheffield Eagles                League 2   \n",
       "...          ...                 ...                     ...   \n",
       "1231          32    Sheffield Eagles    Challenge Cup 4 (64)   \n",
       "1232          10     Batley Bulldogs  1895 Cup Quarter Final   \n",
       "1233          14    Sheffield Eagles    Challenge Cup 5 (32)   \n",
       "1234          22  Toulouse Olympique                League 2   \n",
       "1235          18    Sheffield Eagles    Challenge Cup 6 (16)   \n",
       "\n",
       "                               Attendance  \\\n",
       "0                                    1425   \n",
       "1                                    1145   \n",
       "2                                     NaN   \n",
       "3                                    1159   \n",
       "4                                     NaN   \n",
       "...                                   ...   \n",
       "1231  LNER Community Stadium York England   \n",
       "1232                                  727   \n",
       "1233                                  412   \n",
       "1234                                  794   \n",
       "1235                                 5733   \n",
       "\n",
       "                                                  Venue           Referee  \n",
       "0                  Owlerton Stadium, Sheffield, England       Fred Lindop  \n",
       "1                  Owlerton Stadium, Sheffield, England        Jeff Croft  \n",
       "2                                                   NaN               NaN  \n",
       "3                  Owlerton Stadium, Sheffield, England     John McDonald  \n",
       "4                                                   NaN               NaN  \n",
       "...                                                 ...               ...  \n",
       "1231                                 Referee: Liam Rush               NaN  \n",
       "1232  Sheffield Olympic Legacy Park, Sheffield, England  Marcus Griffiths  \n",
       "1233                        Heywood Road, Sale, England  Marcus Griffiths  \n",
       "1234  Sheffield Olympic Legacy Park, Sheffield, England    Michael Smaill  \n",
       "1235                         DW Stadium, Wigan, England       James Vella  \n",
       "\n",
       "[1236 rows x 10 columns]"
      ]
     },
     "execution_count": 8,
     "metadata": {},
     "output_type": "execute_result"
    }
   ],
   "source": [
    "crowds = pd.read_csv(\"../data/eagles/rugbyleaguerecords.csv\")\n",
    "## https://datascienceparichay.com/article/pandas-extract-year-from-datetime-column/\n",
    "crowds"
   ]
  },
  {
   "cell_type": "code",
   "execution_count": 9,
   "metadata": {},
   "outputs": [],
   "source": [
    "#home games"
   ]
  },
  {
   "cell_type": "code",
   "execution_count": 10,
   "metadata": {},
   "outputs": [
    {
     "data": {
      "text/html": [
       "<div>\n",
       "<style scoped>\n",
       "    .dataframe tbody tr th:only-of-type {\n",
       "        vertical-align: middle;\n",
       "    }\n",
       "\n",
       "    .dataframe tbody tr th {\n",
       "        vertical-align: top;\n",
       "    }\n",
       "\n",
       "    .dataframe thead th {\n",
       "        text-align: right;\n",
       "    }\n",
       "</style>\n",
       "<table border=\"1\" class=\"dataframe\">\n",
       "  <thead>\n",
       "    <tr style=\"text-align: right;\">\n",
       "      <th></th>\n",
       "      <th>Season</th>\n",
       "      <th>Match Date</th>\n",
       "      <th>Home Score</th>\n",
       "      <th>Home Team</th>\n",
       "      <th>Away Score</th>\n",
       "      <th>Away Team</th>\n",
       "      <th>Competition</th>\n",
       "      <th>Attendance</th>\n",
       "      <th>Venue</th>\n",
       "      <th>Referee</th>\n",
       "    </tr>\n",
       "  </thead>\n",
       "  <tbody>\n",
       "    <tr>\n",
       "      <th>0</th>\n",
       "      <td>1984-85</td>\n",
       "      <td>Sunday, 2nd September 1984</td>\n",
       "      <td>29</td>\n",
       "      <td>Sheffield Eagles</td>\n",
       "      <td>10</td>\n",
       "      <td>Rochdale Hornets</td>\n",
       "      <td>League 2</td>\n",
       "      <td>1425</td>\n",
       "      <td>Owlerton Stadium, Sheffield, England</td>\n",
       "      <td>Fred Lindop</td>\n",
       "    </tr>\n",
       "    <tr>\n",
       "      <th>1</th>\n",
       "      <td>1984-85</td>\n",
       "      <td>Sunday, 9th September 1984</td>\n",
       "      <td>14</td>\n",
       "      <td>Sheffield Eagles</td>\n",
       "      <td>18</td>\n",
       "      <td>Fulham</td>\n",
       "      <td>League 2</td>\n",
       "      <td>1145</td>\n",
       "      <td>Owlerton Stadium, Sheffield, England</td>\n",
       "      <td>Jeff Croft</td>\n",
       "    </tr>\n",
       "    <tr>\n",
       "      <th>3</th>\n",
       "      <td>1984-85</td>\n",
       "      <td>Sunday, 23rd September 1984</td>\n",
       "      <td>6</td>\n",
       "      <td>Sheffield Eagles</td>\n",
       "      <td>13</td>\n",
       "      <td>Salford</td>\n",
       "      <td>League 2</td>\n",
       "      <td>1159</td>\n",
       "      <td>Owlerton Stadium, Sheffield, England</td>\n",
       "      <td>John McDonald</td>\n",
       "    </tr>\n",
       "    <tr>\n",
       "      <th>6</th>\n",
       "      <td>1984-85</td>\n",
       "      <td>Sunday, 14th October 1984</td>\n",
       "      <td>20</td>\n",
       "      <td>Sheffield Eagles</td>\n",
       "      <td>14</td>\n",
       "      <td>Runcorn Highfield</td>\n",
       "      <td>League 2</td>\n",
       "      <td>1076</td>\n",
       "      <td>Owlerton Stadium, Sheffield, England</td>\n",
       "      <td>Paul Volante</td>\n",
       "    </tr>\n",
       "    <tr>\n",
       "      <th>8</th>\n",
       "      <td>1984-85</td>\n",
       "      <td>Sunday, 28th October 1984</td>\n",
       "      <td>26</td>\n",
       "      <td>Sheffield Eagles</td>\n",
       "      <td>10</td>\n",
       "      <td>Bridgend</td>\n",
       "      <td>League 2</td>\n",
       "      <td>826</td>\n",
       "      <td>Owlerton Stadium, Sheffield, England</td>\n",
       "      <td>Cliff Hodgson</td>\n",
       "    </tr>\n",
       "    <tr>\n",
       "      <th>...</th>\n",
       "      <td>...</td>\n",
       "      <td>...</td>\n",
       "      <td>...</td>\n",
       "      <td>...</td>\n",
       "      <td>...</td>\n",
       "      <td>...</td>\n",
       "      <td>...</td>\n",
       "      <td>...</td>\n",
       "      <td>...</td>\n",
       "      <td>...</td>\n",
       "    </tr>\n",
       "    <tr>\n",
       "      <th>1226</th>\n",
       "      <td>2023</td>\n",
       "      <td>Sunday, 24th September 2023</td>\n",
       "      <td>16</td>\n",
       "      <td>Sheffield Eagles</td>\n",
       "      <td>17</td>\n",
       "      <td>Bradford Bulls</td>\n",
       "      <td>League 2</td>\n",
       "      <td>1976</td>\n",
       "      <td>Sheffield Olympic Legacy Park, Sheffield, England</td>\n",
       "      <td>Marcus Griffiths</td>\n",
       "    </tr>\n",
       "    <tr>\n",
       "      <th>1227</th>\n",
       "      <td>2023</td>\n",
       "      <td>Sunday, 1st October 2023</td>\n",
       "      <td>0</td>\n",
       "      <td>Sheffield Eagles</td>\n",
       "      <td>42</td>\n",
       "      <td>London Broncos</td>\n",
       "      <td>Play-offs League 2 EPO</td>\n",
       "      <td>648</td>\n",
       "      <td>Sheffield Olympic Legacy Park, Sheffield, England</td>\n",
       "      <td>James Vella</td>\n",
       "    </tr>\n",
       "    <tr>\n",
       "      <th>1229</th>\n",
       "      <td>2024</td>\n",
       "      <td>Saturday, 10th February 2024</td>\n",
       "      <td>88</td>\n",
       "      <td>Sheffield Eagles</td>\n",
       "      <td>12</td>\n",
       "      <td>Newcastle Thunder</td>\n",
       "      <td>Challenge Cup 3 (128)</td>\n",
       "      <td>617</td>\n",
       "      <td>Sheffield Olympic Legacy Park, Sheffield, England</td>\n",
       "      <td>Denton Arnold</td>\n",
       "    </tr>\n",
       "    <tr>\n",
       "      <th>1232</th>\n",
       "      <td>2024</td>\n",
       "      <td>Sunday, 3rd March 2024</td>\n",
       "      <td>26</td>\n",
       "      <td>Sheffield Eagles</td>\n",
       "      <td>10</td>\n",
       "      <td>Batley Bulldogs</td>\n",
       "      <td>1895 Cup Quarter Final</td>\n",
       "      <td>727</td>\n",
       "      <td>Sheffield Olympic Legacy Park, Sheffield, England</td>\n",
       "      <td>Marcus Griffiths</td>\n",
       "    </tr>\n",
       "    <tr>\n",
       "      <th>1234</th>\n",
       "      <td>2024</td>\n",
       "      <td>Friday, 15th March 2024</td>\n",
       "      <td>24</td>\n",
       "      <td>Sheffield Eagles</td>\n",
       "      <td>22</td>\n",
       "      <td>Toulouse Olympique</td>\n",
       "      <td>League 2</td>\n",
       "      <td>794</td>\n",
       "      <td>Sheffield Olympic Legacy Park, Sheffield, England</td>\n",
       "      <td>Michael Smaill</td>\n",
       "    </tr>\n",
       "  </tbody>\n",
       "</table>\n",
       "<p>610 rows × 10 columns</p>\n",
       "</div>"
      ],
      "text/plain": [
       "       Season                    Match Date  Home Score         Home Team  \\\n",
       "0     1984-85    Sunday, 2nd September 1984          29  Sheffield Eagles   \n",
       "1     1984-85    Sunday, 9th September 1984          14  Sheffield Eagles   \n",
       "3     1984-85   Sunday, 23rd September 1984           6  Sheffield Eagles   \n",
       "6     1984-85     Sunday, 14th October 1984          20  Sheffield Eagles   \n",
       "8     1984-85     Sunday, 28th October 1984          26  Sheffield Eagles   \n",
       "...       ...                           ...         ...               ...   \n",
       "1226     2023   Sunday, 24th September 2023          16  Sheffield Eagles   \n",
       "1227     2023      Sunday, 1st October 2023           0  Sheffield Eagles   \n",
       "1229     2024  Saturday, 10th February 2024          88  Sheffield Eagles   \n",
       "1232     2024        Sunday, 3rd March 2024          26  Sheffield Eagles   \n",
       "1234     2024       Friday, 15th March 2024          24  Sheffield Eagles   \n",
       "\n",
       "      Away Score           Away Team             Competition Attendance  \\\n",
       "0             10    Rochdale Hornets                League 2       1425   \n",
       "1             18              Fulham                League 2       1145   \n",
       "3             13             Salford                League 2       1159   \n",
       "6             14   Runcorn Highfield                League 2       1076   \n",
       "8             10            Bridgend                League 2        826   \n",
       "...          ...                 ...                     ...        ...   \n",
       "1226          17      Bradford Bulls                League 2       1976   \n",
       "1227          42      London Broncos  Play-offs League 2 EPO        648   \n",
       "1229          12   Newcastle Thunder   Challenge Cup 3 (128)        617   \n",
       "1232          10     Batley Bulldogs  1895 Cup Quarter Final        727   \n",
       "1234          22  Toulouse Olympique                League 2        794   \n",
       "\n",
       "                                                  Venue           Referee  \n",
       "0                  Owlerton Stadium, Sheffield, England       Fred Lindop  \n",
       "1                  Owlerton Stadium, Sheffield, England        Jeff Croft  \n",
       "3                  Owlerton Stadium, Sheffield, England     John McDonald  \n",
       "6                  Owlerton Stadium, Sheffield, England      Paul Volante  \n",
       "8                  Owlerton Stadium, Sheffield, England     Cliff Hodgson  \n",
       "...                                                 ...               ...  \n",
       "1226  Sheffield Olympic Legacy Park, Sheffield, England  Marcus Griffiths  \n",
       "1227  Sheffield Olympic Legacy Park, Sheffield, England       James Vella  \n",
       "1229  Sheffield Olympic Legacy Park, Sheffield, England     Denton Arnold  \n",
       "1232  Sheffield Olympic Legacy Park, Sheffield, England  Marcus Griffiths  \n",
       "1234  Sheffield Olympic Legacy Park, Sheffield, England    Michael Smaill  \n",
       "\n",
       "[610 rows x 10 columns]"
      ]
     },
     "execution_count": 10,
     "metadata": {},
     "output_type": "execute_result"
    }
   ],
   "source": [
    "crowds = crowds[crowds[\"Home Team\"] == \"Sheffield Eagles\"]\n",
    "crowds"
   ]
  },
  {
   "cell_type": "code",
   "execution_count": 15,
   "metadata": {},
   "outputs": [
    {
     "data": {
      "text/plain": [
       "array(['Owlerton Stadium, Sheffield, England',\n",
       "       'Millmoor, Rotherham, England', 'Headingley, Leeds, England',\n",
       "       'Bramall Lane, Sheffield, England',\n",
       "       'Hillsborough, Sheffield, England',\n",
       "       'Saltergate, Chesterfield, England',\n",
       "       'Thrum Hall, Halifax, England', 'Belle Vue, Wakefield, England',\n",
       "       'Tattersfield, Doncaster, England', 'Oakwell, Barnsley, England',\n",
       "       'Don Valley Stadium, Sheffield, England', nan,\n",
       "       'Cardiff Arms Park, Cardiff, Wales',\n",
       "       'Neutral Venue: Headingley, Leeds, England',\n",
       "       'Neutral Venue: Wembley Stadium, London, England',\n",
       "       'KC Stadium, Hull, England', 'Clifton Lane, Rotherham, England',\n",
       "       'Woodbourn Athletic Stadium, Sheffield, England',\n",
       "       'Referee: Craig Halloran', 'Mount St Marys, Spinkhill, England',\n",
       "       'Sheffield Hallam University Sports Ground, Sheffield, England',\n",
       "       'Keepmoat Stadium, Doncaster, England',\n",
       "       'Castle Park, Doncaster, England',\n",
       "       'Neutral Venue: Bloomfield Road, Blackpool, England',\n",
       "       'Sheffield Olympic Legacy Park, Sheffield, England',\n",
       "       'Referee: Tom Grant', 'Referee: James Vella',\n",
       "       'Referee: Ben Thaler', 'Referee: Gareth Hewer',\n",
       "       'Neutral Venue: The Mobile Rocket Stadium, Wakefield, England',\n",
       "       'The Mobile Rocket Stadium, Wakefield, England',\n",
       "       'Millennium Stadium, Featherstone, England',\n",
       "       'Eco-Power Stadium, Doncaster, England'], dtype=object)"
      ]
     },
     "execution_count": 15,
     "metadata": {},
     "output_type": "execute_result"
    }
   ],
   "source": [
    "crowds[\"Venue\"].unique()"
   ]
  },
  {
   "cell_type": "code",
   "execution_count": 13,
   "metadata": {},
   "outputs": [
    {
     "data": {
      "text/plain": [
       "(None, None)"
      ]
     },
     "execution_count": 13,
     "metadata": {},
     "output_type": "execute_result"
    }
   ],
   "source": [
    "olp_latlong = get_place(\"Sheffield Olympic Legacy Park, Sheffield, England\")\n",
    "olp_latlong"
   ]
  },
  {
   "cell_type": "markdown",
   "metadata": {
    "editable": true,
    "slideshow": {
     "slide_type": ""
    },
    "tags": []
   },
   "source": [
    "## Get town names from Opponent fields"
   ]
  },
  {
   "cell_type": "code",
   "execution_count": 12,
   "metadata": {},
   "outputs": [
    {
     "ename": "KeyError",
     "evalue": "'Opponents'",
     "output_type": "error",
     "traceback": [
      "\u001b[0;31m---------------------------------------------------------------------------\u001b[0m",
      "\u001b[0;31mKeyError\u001b[0m                                  Traceback (most recent call last)",
      "File \u001b[0;32m~/.local/lib/python3.10/site-packages/pandas/core/indexes/base.py:3805\u001b[0m, in \u001b[0;36mIndex.get_loc\u001b[0;34m(self, key)\u001b[0m\n\u001b[1;32m   3804\u001b[0m \u001b[38;5;28;01mtry\u001b[39;00m:\n\u001b[0;32m-> 3805\u001b[0m     \u001b[38;5;28;01mreturn\u001b[39;00m \u001b[38;5;28;43mself\u001b[39;49m\u001b[38;5;241;43m.\u001b[39;49m\u001b[43m_engine\u001b[49m\u001b[38;5;241;43m.\u001b[39;49m\u001b[43mget_loc\u001b[49m\u001b[43m(\u001b[49m\u001b[43mcasted_key\u001b[49m\u001b[43m)\u001b[49m\n\u001b[1;32m   3806\u001b[0m \u001b[38;5;28;01mexcept\u001b[39;00m \u001b[38;5;167;01mKeyError\u001b[39;00m \u001b[38;5;28;01mas\u001b[39;00m err:\n",
      "File \u001b[0;32mindex.pyx:167\u001b[0m, in \u001b[0;36mpandas._libs.index.IndexEngine.get_loc\u001b[0;34m()\u001b[0m\n",
      "File \u001b[0;32mindex.pyx:196\u001b[0m, in \u001b[0;36mpandas._libs.index.IndexEngine.get_loc\u001b[0;34m()\u001b[0m\n",
      "File \u001b[0;32mpandas/_libs/hashtable_class_helper.pxi:7081\u001b[0m, in \u001b[0;36mpandas._libs.hashtable.PyObjectHashTable.get_item\u001b[0;34m()\u001b[0m\n",
      "File \u001b[0;32mpandas/_libs/hashtable_class_helper.pxi:7089\u001b[0m, in \u001b[0;36mpandas._libs.hashtable.PyObjectHashTable.get_item\u001b[0;34m()\u001b[0m\n",
      "\u001b[0;31mKeyError\u001b[0m: 'Opponents'",
      "\nThe above exception was the direct cause of the following exception:\n",
      "\u001b[0;31mKeyError\u001b[0m                                  Traceback (most recent call last)",
      "Cell \u001b[0;32mIn[12], line 12\u001b[0m\n\u001b[1;32m      9\u001b[0m     location \u001b[38;5;241m=\u001b[39m location\u001b[38;5;241m.\u001b[39mstrip(\u001b[38;5;124m\"\u001b[39m\u001b[38;5;124m \u001b[39m\u001b[38;5;124m\"\u001b[39m)\n\u001b[1;32m     10\u001b[0m     \u001b[38;5;28;01mreturn\u001b[39;00m location\n\u001b[0;32m---> 12\u001b[0m crowds[\u001b[38;5;124m'\u001b[39m\u001b[38;5;124mTown\u001b[39m\u001b[38;5;124m'\u001b[39m] \u001b[38;5;241m=\u001b[39m \u001b[43mcrowds\u001b[49m\u001b[38;5;241;43m.\u001b[39;49m\u001b[43mapply\u001b[49m\u001b[43m(\u001b[49m\n\u001b[1;32m     13\u001b[0m \u001b[43m    \u001b[49m\u001b[38;5;28;43;01mlambda\u001b[39;49;00m\u001b[43m \u001b[49m\u001b[43mrow\u001b[49m\u001b[43m:\u001b[49m\u001b[43m \u001b[49m\u001b[43mteam_location\u001b[49m\u001b[43m(\u001b[49m\u001b[43mrow\u001b[49m\u001b[43m[\u001b[49m\u001b[38;5;124;43m\"\u001b[39;49m\u001b[38;5;124;43mOpponents\u001b[39;49m\u001b[38;5;124;43m\"\u001b[39;49m\u001b[43m]\u001b[49m\u001b[43m)\u001b[49m\u001b[43m,\u001b[49m\u001b[43m \u001b[49m\u001b[43maxis\u001b[49m\u001b[38;5;241;43m=\u001b[39;49m\u001b[38;5;241;43m1\u001b[39;49m\u001b[43m,\u001b[49m\u001b[43m \u001b[49m\u001b[43mresult_type\u001b[49m\u001b[38;5;241;43m=\u001b[39;49m\u001b[38;5;124;43m\"\u001b[39;49m\u001b[38;5;124;43mexpand\u001b[39;49m\u001b[38;5;124;43m\"\u001b[39;49m\n\u001b[1;32m     14\u001b[0m \u001b[43m)\u001b[49m\n\u001b[1;32m     15\u001b[0m crowds\n",
      "File \u001b[0;32m~/.local/lib/python3.10/site-packages/pandas/core/frame.py:10361\u001b[0m, in \u001b[0;36mDataFrame.apply\u001b[0;34m(self, func, axis, raw, result_type, args, by_row, engine, engine_kwargs, **kwargs)\u001b[0m\n\u001b[1;32m  10347\u001b[0m \u001b[38;5;28;01mfrom\u001b[39;00m \u001b[38;5;21;01mpandas\u001b[39;00m\u001b[38;5;21;01m.\u001b[39;00m\u001b[38;5;21;01mcore\u001b[39;00m\u001b[38;5;21;01m.\u001b[39;00m\u001b[38;5;21;01mapply\u001b[39;00m \u001b[38;5;28;01mimport\u001b[39;00m frame_apply\n\u001b[1;32m  10349\u001b[0m op \u001b[38;5;241m=\u001b[39m frame_apply(\n\u001b[1;32m  10350\u001b[0m     \u001b[38;5;28mself\u001b[39m,\n\u001b[1;32m  10351\u001b[0m     func\u001b[38;5;241m=\u001b[39mfunc,\n\u001b[0;32m   (...)\u001b[0m\n\u001b[1;32m  10359\u001b[0m     kwargs\u001b[38;5;241m=\u001b[39mkwargs,\n\u001b[1;32m  10360\u001b[0m )\n\u001b[0;32m> 10361\u001b[0m \u001b[38;5;28;01mreturn\u001b[39;00m \u001b[43mop\u001b[49m\u001b[38;5;241;43m.\u001b[39;49m\u001b[43mapply\u001b[49m\u001b[43m(\u001b[49m\u001b[43m)\u001b[49m\u001b[38;5;241m.\u001b[39m__finalize__(\u001b[38;5;28mself\u001b[39m, method\u001b[38;5;241m=\u001b[39m\u001b[38;5;124m\"\u001b[39m\u001b[38;5;124mapply\u001b[39m\u001b[38;5;124m\"\u001b[39m)\n",
      "File \u001b[0;32m~/.local/lib/python3.10/site-packages/pandas/core/apply.py:916\u001b[0m, in \u001b[0;36mFrameApply.apply\u001b[0;34m(self)\u001b[0m\n\u001b[1;32m    913\u001b[0m \u001b[38;5;28;01melif\u001b[39;00m \u001b[38;5;28mself\u001b[39m\u001b[38;5;241m.\u001b[39mraw:\n\u001b[1;32m    914\u001b[0m     \u001b[38;5;28;01mreturn\u001b[39;00m \u001b[38;5;28mself\u001b[39m\u001b[38;5;241m.\u001b[39mapply_raw(engine\u001b[38;5;241m=\u001b[39m\u001b[38;5;28mself\u001b[39m\u001b[38;5;241m.\u001b[39mengine, engine_kwargs\u001b[38;5;241m=\u001b[39m\u001b[38;5;28mself\u001b[39m\u001b[38;5;241m.\u001b[39mengine_kwargs)\n\u001b[0;32m--> 916\u001b[0m \u001b[38;5;28;01mreturn\u001b[39;00m \u001b[38;5;28;43mself\u001b[39;49m\u001b[38;5;241;43m.\u001b[39;49m\u001b[43mapply_standard\u001b[49m\u001b[43m(\u001b[49m\u001b[43m)\u001b[49m\n",
      "File \u001b[0;32m~/.local/lib/python3.10/site-packages/pandas/core/apply.py:1063\u001b[0m, in \u001b[0;36mFrameApply.apply_standard\u001b[0;34m(self)\u001b[0m\n\u001b[1;32m   1061\u001b[0m \u001b[38;5;28;01mdef\u001b[39;00m \u001b[38;5;21mapply_standard\u001b[39m(\u001b[38;5;28mself\u001b[39m):\n\u001b[1;32m   1062\u001b[0m     \u001b[38;5;28;01mif\u001b[39;00m \u001b[38;5;28mself\u001b[39m\u001b[38;5;241m.\u001b[39mengine \u001b[38;5;241m==\u001b[39m \u001b[38;5;124m\"\u001b[39m\u001b[38;5;124mpython\u001b[39m\u001b[38;5;124m\"\u001b[39m:\n\u001b[0;32m-> 1063\u001b[0m         results, res_index \u001b[38;5;241m=\u001b[39m \u001b[38;5;28;43mself\u001b[39;49m\u001b[38;5;241;43m.\u001b[39;49m\u001b[43mapply_series_generator\u001b[49m\u001b[43m(\u001b[49m\u001b[43m)\u001b[49m\n\u001b[1;32m   1064\u001b[0m     \u001b[38;5;28;01melse\u001b[39;00m:\n\u001b[1;32m   1065\u001b[0m         results, res_index \u001b[38;5;241m=\u001b[39m \u001b[38;5;28mself\u001b[39m\u001b[38;5;241m.\u001b[39mapply_series_numba()\n",
      "File \u001b[0;32m~/.local/lib/python3.10/site-packages/pandas/core/apply.py:1081\u001b[0m, in \u001b[0;36mFrameApply.apply_series_generator\u001b[0;34m(self)\u001b[0m\n\u001b[1;32m   1078\u001b[0m \u001b[38;5;28;01mwith\u001b[39;00m option_context(\u001b[38;5;124m\"\u001b[39m\u001b[38;5;124mmode.chained_assignment\u001b[39m\u001b[38;5;124m\"\u001b[39m, \u001b[38;5;28;01mNone\u001b[39;00m):\n\u001b[1;32m   1079\u001b[0m     \u001b[38;5;28;01mfor\u001b[39;00m i, v \u001b[38;5;129;01min\u001b[39;00m \u001b[38;5;28menumerate\u001b[39m(series_gen):\n\u001b[1;32m   1080\u001b[0m         \u001b[38;5;66;03m# ignore SettingWithCopy here in case the user mutates\u001b[39;00m\n\u001b[0;32m-> 1081\u001b[0m         results[i] \u001b[38;5;241m=\u001b[39m \u001b[38;5;28;43mself\u001b[39;49m\u001b[38;5;241;43m.\u001b[39;49m\u001b[43mfunc\u001b[49m\u001b[43m(\u001b[49m\u001b[43mv\u001b[49m\u001b[43m,\u001b[49m\u001b[43m \u001b[49m\u001b[38;5;241;43m*\u001b[39;49m\u001b[38;5;28;43mself\u001b[39;49m\u001b[38;5;241;43m.\u001b[39;49m\u001b[43margs\u001b[49m\u001b[43m,\u001b[49m\u001b[43m \u001b[49m\u001b[38;5;241;43m*\u001b[39;49m\u001b[38;5;241;43m*\u001b[39;49m\u001b[38;5;28;43mself\u001b[39;49m\u001b[38;5;241;43m.\u001b[39;49m\u001b[43mkwargs\u001b[49m\u001b[43m)\u001b[49m\n\u001b[1;32m   1082\u001b[0m         \u001b[38;5;28;01mif\u001b[39;00m \u001b[38;5;28misinstance\u001b[39m(results[i], ABCSeries):\n\u001b[1;32m   1083\u001b[0m             \u001b[38;5;66;03m# If we have a view on v, we need to make a copy because\u001b[39;00m\n\u001b[1;32m   1084\u001b[0m             \u001b[38;5;66;03m#  series_generator will swap out the underlying data\u001b[39;00m\n\u001b[1;32m   1085\u001b[0m             results[i] \u001b[38;5;241m=\u001b[39m results[i]\u001b[38;5;241m.\u001b[39mcopy(deep\u001b[38;5;241m=\u001b[39m\u001b[38;5;28;01mFalse\u001b[39;00m)\n",
      "Cell \u001b[0;32mIn[12], line 13\u001b[0m, in \u001b[0;36m<lambda>\u001b[0;34m(row)\u001b[0m\n\u001b[1;32m      9\u001b[0m     location \u001b[38;5;241m=\u001b[39m location\u001b[38;5;241m.\u001b[39mstrip(\u001b[38;5;124m\"\u001b[39m\u001b[38;5;124m \u001b[39m\u001b[38;5;124m\"\u001b[39m)\n\u001b[1;32m     10\u001b[0m     \u001b[38;5;28;01mreturn\u001b[39;00m location\n\u001b[1;32m     12\u001b[0m crowds[\u001b[38;5;124m'\u001b[39m\u001b[38;5;124mTown\u001b[39m\u001b[38;5;124m'\u001b[39m] \u001b[38;5;241m=\u001b[39m crowds\u001b[38;5;241m.\u001b[39mapply(\n\u001b[0;32m---> 13\u001b[0m     \u001b[38;5;28;01mlambda\u001b[39;00m row: team_location(\u001b[43mrow\u001b[49m\u001b[43m[\u001b[49m\u001b[38;5;124;43m\"\u001b[39;49m\u001b[38;5;124;43mOpponents\u001b[39;49m\u001b[38;5;124;43m\"\u001b[39;49m\u001b[43m]\u001b[49m), axis\u001b[38;5;241m=\u001b[39m\u001b[38;5;241m1\u001b[39m, result_type\u001b[38;5;241m=\u001b[39m\u001b[38;5;124m\"\u001b[39m\u001b[38;5;124mexpand\u001b[39m\u001b[38;5;124m\"\u001b[39m\n\u001b[1;32m     14\u001b[0m )\n\u001b[1;32m     15\u001b[0m crowds\n",
      "File \u001b[0;32m~/.local/lib/python3.10/site-packages/pandas/core/series.py:1112\u001b[0m, in \u001b[0;36mSeries.__getitem__\u001b[0;34m(self, key)\u001b[0m\n\u001b[1;32m   1109\u001b[0m     \u001b[38;5;28;01mreturn\u001b[39;00m \u001b[38;5;28mself\u001b[39m\u001b[38;5;241m.\u001b[39m_values[key]\n\u001b[1;32m   1111\u001b[0m \u001b[38;5;28;01melif\u001b[39;00m key_is_scalar:\n\u001b[0;32m-> 1112\u001b[0m     \u001b[38;5;28;01mreturn\u001b[39;00m \u001b[38;5;28;43mself\u001b[39;49m\u001b[38;5;241;43m.\u001b[39;49m\u001b[43m_get_value\u001b[49m\u001b[43m(\u001b[49m\u001b[43mkey\u001b[49m\u001b[43m)\u001b[49m\n\u001b[1;32m   1114\u001b[0m \u001b[38;5;66;03m# Convert generator to list before going through hashable part\u001b[39;00m\n\u001b[1;32m   1115\u001b[0m \u001b[38;5;66;03m# (We will iterate through the generator there to check for slices)\u001b[39;00m\n\u001b[1;32m   1116\u001b[0m \u001b[38;5;28;01mif\u001b[39;00m is_iterator(key):\n",
      "File \u001b[0;32m~/.local/lib/python3.10/site-packages/pandas/core/series.py:1228\u001b[0m, in \u001b[0;36mSeries._get_value\u001b[0;34m(self, label, takeable)\u001b[0m\n\u001b[1;32m   1225\u001b[0m     \u001b[38;5;28;01mreturn\u001b[39;00m \u001b[38;5;28mself\u001b[39m\u001b[38;5;241m.\u001b[39m_values[label]\n\u001b[1;32m   1227\u001b[0m \u001b[38;5;66;03m# Similar to Index.get_value, but we do not fall back to positional\u001b[39;00m\n\u001b[0;32m-> 1228\u001b[0m loc \u001b[38;5;241m=\u001b[39m \u001b[38;5;28;43mself\u001b[39;49m\u001b[38;5;241;43m.\u001b[39;49m\u001b[43mindex\u001b[49m\u001b[38;5;241;43m.\u001b[39;49m\u001b[43mget_loc\u001b[49m\u001b[43m(\u001b[49m\u001b[43mlabel\u001b[49m\u001b[43m)\u001b[49m\n\u001b[1;32m   1230\u001b[0m \u001b[38;5;28;01mif\u001b[39;00m is_integer(loc):\n\u001b[1;32m   1231\u001b[0m     \u001b[38;5;28;01mreturn\u001b[39;00m \u001b[38;5;28mself\u001b[39m\u001b[38;5;241m.\u001b[39m_values[loc]\n",
      "File \u001b[0;32m~/.local/lib/python3.10/site-packages/pandas/core/indexes/base.py:3812\u001b[0m, in \u001b[0;36mIndex.get_loc\u001b[0;34m(self, key)\u001b[0m\n\u001b[1;32m   3807\u001b[0m     \u001b[38;5;28;01mif\u001b[39;00m \u001b[38;5;28misinstance\u001b[39m(casted_key, \u001b[38;5;28mslice\u001b[39m) \u001b[38;5;129;01mor\u001b[39;00m (\n\u001b[1;32m   3808\u001b[0m         \u001b[38;5;28misinstance\u001b[39m(casted_key, abc\u001b[38;5;241m.\u001b[39mIterable)\n\u001b[1;32m   3809\u001b[0m         \u001b[38;5;129;01mand\u001b[39;00m \u001b[38;5;28many\u001b[39m(\u001b[38;5;28misinstance\u001b[39m(x, \u001b[38;5;28mslice\u001b[39m) \u001b[38;5;28;01mfor\u001b[39;00m x \u001b[38;5;129;01min\u001b[39;00m casted_key)\n\u001b[1;32m   3810\u001b[0m     ):\n\u001b[1;32m   3811\u001b[0m         \u001b[38;5;28;01mraise\u001b[39;00m InvalidIndexError(key)\n\u001b[0;32m-> 3812\u001b[0m     \u001b[38;5;28;01mraise\u001b[39;00m \u001b[38;5;167;01mKeyError\u001b[39;00m(key) \u001b[38;5;28;01mfrom\u001b[39;00m \u001b[38;5;21;01merr\u001b[39;00m\n\u001b[1;32m   3813\u001b[0m \u001b[38;5;28;01mexcept\u001b[39;00m \u001b[38;5;167;01mTypeError\u001b[39;00m:\n\u001b[1;32m   3814\u001b[0m     \u001b[38;5;66;03m# If we have a listlike key, _check_indexing_error will raise\u001b[39;00m\n\u001b[1;32m   3815\u001b[0m     \u001b[38;5;66;03m#  InvalidIndexError. Otherwise we fall through and re-raise\u001b[39;00m\n\u001b[1;32m   3816\u001b[0m     \u001b[38;5;66;03m#  the TypeError.\u001b[39;00m\n\u001b[1;32m   3817\u001b[0m     \u001b[38;5;28mself\u001b[39m\u001b[38;5;241m.\u001b[39m_check_indexing_error(key)\n",
      "\u001b[0;31mKeyError\u001b[0m: 'Opponents'"
     ]
    }
   ],
   "source": [
    "def team_location(opponent):\n",
    "    location = opponent.replace(\"St Pats\", \"\")\n",
    "    location = location.replace(\"R-\", \"\")\n",
    "    location = location.replace(\"KR\", \"\")\n",
    "    location = location.replace(\"East\", \"\")\n",
    "    location = location.replace(\"Met\", \"\")\n",
    "    location = location.replace(\"Crusaders\", \"Wrexham\") # or Bridgeend\n",
    "    location = location.replace(\"Skolars\", \"London \")\n",
    "    location = location.strip(\" \")\n",
    "    return location\n",
    "    \n",
    "crowds['Town'] = crowds.apply(\n",
    "    lambda row: team_location(row[\"Opponents\"]), axis=1, result_type=\"expand\"\n",
    ")\n",
    "crowds"
   ]
  },
  {
   "cell_type": "code",
   "execution_count": null,
   "metadata": {},
   "outputs": [],
   "source": []
  },
  {
   "cell_type": "markdown",
   "metadata": {},
   "source": [
    "## Geolocate the Towns"
   ]
  },
  {
   "cell_type": "code",
   "execution_count": null,
   "metadata": {
    "editable": true,
    "slideshow": {
     "slide_type": ""
    },
    "tags": []
   },
   "outputs": [],
   "source": [
    "crowds = get_places(crowds, \"Town\")\n",
    "crowds"
   ]
  },
  {
   "cell_type": "code",
   "execution_count": null,
   "metadata": {},
   "outputs": [],
   "source": [
    "# filter for na/s and location for teams\n",
    "crowds[crowds['Town Latitude'].isnull()]\n",
    "\n"
   ]
  },
  {
   "cell_type": "code",
   "execution_count": 16,
   "metadata": {},
   "outputs": [
    {
     "name": "stdout",
     "output_type": "stream",
     "text": [
      "{'addresstype': 'city',\n",
      " 'boundingbox': ['53.7243414', '53.9631510', '-2.0612483', '-1.6403301'],\n",
      " 'class': 'boundary',\n",
      " 'display_name': 'Bradford, West Yorkshire, England, United Kingdom',\n",
      " 'importance': 0.5765366261116545,\n",
      " 'lat': '53.7944229',\n",
      " 'licence': 'Data © OpenStreetMap contributors, ODbL 1.0. '\n",
      "            'http://osm.org/copyright',\n",
      " 'lon': '-1.7519186',\n",
      " 'name': 'Bradford',\n",
      " 'osm_id': 118323,\n",
      " 'osm_type': 'relation',\n",
      " 'place_id': 241965145,\n",
      " 'place_rank': 16,\n",
      " 'type': 'administrative'}\n"
     ]
    }
   ],
   "source": [
    "from geopy.geocoders import Nominatim\n",
    "from pprint import pprint\n",
    "\n",
    "# Instantiate a new Nominatim client\n",
    "app = Nominatim(user_agent=\"UTC OLP\")\n",
    "\n",
    "# Get location raw data from the user\n",
    "your_loc = \"Sheffield Olympic Legacy Park, Sheffield, England\"\n",
    "your_loc = \"Bradford\"\n",
    "location = app.geocode(your_loc).raw\n",
    "\n",
    "# Print raw data\n",
    "pprint(location)"
   ]
  },
  {
   "cell_type": "code",
   "execution_count": null,
   "metadata": {},
   "outputs": [],
   "source": []
  },
  {
   "cell_type": "markdown",
   "metadata": {},
   "source": [
    "### Drop the towns outside the UK"
   ]
  },
  {
   "cell_type": "code",
   "execution_count": null,
   "metadata": {},
   "outputs": [],
   "source": [
    "#crowds = crowds[crowds['Town Latitude'].isnull() == False]\n",
    "crowds = crowds.dropna().reset_index(drop=True)\n",
    "crowds"
   ]
  },
  {
   "cell_type": "markdown",
   "metadata": {},
   "source": [
    "## Add the distance to Sheffield"
   ]
  },
  {
   "cell_type": "code",
   "execution_count": null,
   "metadata": {
    "editable": true,
    "slideshow": {
     "slide_type": ""
    },
    "tags": []
   },
   "outputs": [],
   "source": [
    "crowds['Opponents Distance'] = crowds.apply(\n",
    "    lambda row: hs.haversine(sheffield_latlong, (row[\"Town Latitude\"], row[\"Town Longitude\"]), unit=hs.Unit.MILES), axis=1, result_type=\"expand\"\n",
    ")\n",
    "crowds\n"
   ]
  },
  {
   "cell_type": "markdown",
   "metadata": {
    "editable": true,
    "slideshow": {
     "slide_type": ""
    },
    "tags": []
   },
   "source": [
    "## Get Usable Date Information"
   ]
  },
  {
   "cell_type": "code",
   "execution_count": null,
   "metadata": {
    "editable": true,
    "slideshow": {
     "slide_type": ""
    },
    "tags": []
   },
   "outputs": [],
   "source": [
    "crowds['Date'] = pd.to_datetime(crowds['Date'], format=\"%d/%m/%Y\")\n",
    "crowds['Year'] = crowds['Date'].dt.year\n",
    "crowds['Day'] = crowds['Date'].dt.day_name()\n",
    "crowds['Month'] = crowds['Date'].dt.month\n",
    "crowds['Month Name'] = crowds['Date'].dt.month_name()\n",
    "crowds"
   ]
  },
  {
   "cell_type": "code",
   "execution_count": null,
   "metadata": {
    "editable": true,
    "slideshow": {
     "slide_type": ""
    },
    "tags": []
   },
   "outputs": [],
   "source": []
  },
  {
   "cell_type": "markdown",
   "metadata": {
    "editable": true,
    "slideshow": {
     "slide_type": ""
    },
    "tags": []
   },
   "source": [
    "## Saving for later"
   ]
  },
  {
   "cell_type": "code",
   "execution_count": null,
   "metadata": {
    "editable": true,
    "slideshow": {
     "slide_type": ""
    },
    "tags": []
   },
   "outputs": [],
   "source": [
    "crowds.to_csv(\"../data/eagles/crowds_clean.csv\")"
   ]
  },
  {
   "cell_type": "code",
   "execution_count": null,
   "metadata": {
    "editable": true,
    "slideshow": {
     "slide_type": ""
    },
    "tags": []
   },
   "outputs": [],
   "source": []
  },
  {
   "cell_type": "markdown",
   "metadata": {
    "editable": true,
    "slideshow": {
     "slide_type": ""
    },
    "tags": []
   },
   "source": [
    "### Weather in Sheffield\n",
    "\n",
    "Could do daily weather at the correct stadium location but monthly for Sheffield's Weather station will be easier at first\n",
    "\n",
    "#### Possible Data Sources : \n",
    "\n",
    "- https://www.metoffice.gov.uk/research/climate/maps-and-data/historic-station-data saved as [text](../data/eagles/sheffield_montly_weather.csv)\n",
    "- https://api.openweathermap.org/data/3.0/onecall/timemachine?lat=39.099724&lon=-94.578331&dt=1643803200&appid=b112bddb3ca3876644b7c695768ae96d"
   ]
  },
  {
   "cell_type": "code",
   "execution_count": null,
   "metadata": {
    "editable": true,
    "slideshow": {
     "slide_type": ""
    },
    "tags": []
   },
   "outputs": [],
   "source": [
    "sheffield_monthly_weather = pd.read_csv(\"../data/eagles/sheffield_monthly_weather.csv\")\n",
    "sheffield_monthly_weather"
   ]
  },
  {
   "cell_type": "code",
   "execution_count": null,
   "metadata": {
    "editable": true,
    "slideshow": {
     "slide_type": ""
    },
    "tags": []
   },
   "outputs": [],
   "source": []
  },
  {
   "cell_type": "code",
   "execution_count": null,
   "metadata": {
    "editable": true,
    "slideshow": {
     "slide_type": ""
    },
    "tags": []
   },
   "outputs": [],
   "source": [
    "sheffield_monthly_weather.rename(columns={\n",
    "    'yyyy' : \"Year\",\n",
    "    'mm' : \"Month\",\n",
    "    'tmax degC' : \"Max Temp C\",\n",
    "    'tmin degC' : \"Min Temp C\",\n",
    "    'rain mm' : \"Rain mm\",\n",
    "},inplace=True)\n",
    "\n",
    "sheffield_monthly_weather.drop(columns=[\"af days\", \"sun hours\"], inplace=True)\n",
    "\n",
    "sheffield_monthly_weather"
   ]
  },
  {
   "cell_type": "code",
   "execution_count": null,
   "metadata": {
    "editable": true,
    "slideshow": {
     "slide_type": ""
    },
    "tags": []
   },
   "outputs": [],
   "source": [
    "#result = pd.concat([crowds, sheffield_monthly_weather], axis=1, join=\"inner\")\n",
    "crowds_with_monthly_weather = pd.merge(crowds, sheffield_monthly_weather, how=\"left\", on=[\"Year\", \"Month\"])\n",
    "crowds_with_monthly_weather.to_csv(\"../data/eagles/crowds_with_monthly_weather.csv\", index=False)\n",
    "crowds_with_monthly_weather"
   ]
  },
  {
   "cell_type": "code",
   "execution_count": null,
   "metadata": {
    "editable": true,
    "slideshow": {
     "slide_type": ""
    },
    "tags": []
   },
   "outputs": [],
   "source": []
  },
  {
   "cell_type": "code",
   "execution_count": null,
   "metadata": {},
   "outputs": [],
   "source": [
    " crowds_with_monthly_weather[crowds_with_monthly_weather.isna().any(axis=1)]"
   ]
  },
  {
   "cell_type": "markdown",
   "metadata": {},
   "source": [
    "## Survey Data"
   ]
  },
  {
   "cell_type": "code",
   "execution_count": null,
   "metadata": {},
   "outputs": [],
   "source": [
    "questionnaire = pd.read_csv(\"../data/eagles/questionnaire.csv\")\n",
    "questionnaire"
   ]
  },
  {
   "cell_type": "code",
   "execution_count": null,
   "metadata": {},
   "outputs": [],
   "source": [
    "\n",
    "questionnaire.rename(columns={\n",
    "    'Could you provide your postcode? This will help us understand where people are responding from. ':\"Postcode\",\n",
    "},inplace=True)\n",
    "\n",
    "questionnaire\n"
   ]
  },
  {
   "cell_type": "code",
   "execution_count": null,
   "metadata": {},
   "outputs": [],
   "source": [
    "\n",
    "\n",
    "questionnaire_quantitive = questionnaire[[\n",
    "    questionnaire.columns[1],\n",
    "    questionnaire.columns[2],\n",
    "    questionnaire.columns[3],\n",
    "    questionnaire.columns[14],\n",
    "    questionnaire.columns[15],\n",
    "    questionnaire.columns[16],\n",
    "    questionnaire.columns[17]\n",
    "]]\n",
    "questionnaire_quantitive"
   ]
  },
  {
   "cell_type": "code",
   "execution_count": null,
   "metadata": {},
   "outputs": [],
   "source": [
    "questionnaire_quantitive = get_latlongs(questionnaire_quantitive)\n",
    "questionnaire_quantitive"
   ]
  },
  {
   "cell_type": "code",
   "execution_count": null,
   "metadata": {},
   "outputs": [],
   "source": [
    "questionnaire_quantitive.to_csv(\"../data/eagles/questionnaire_quantitive.csv\", index=False)"
   ]
  },
  {
   "cell_type": "code",
   "execution_count": null,
   "metadata": {},
   "outputs": [],
   "source": []
  }
 ],
 "metadata": {
  "kernelspec": {
   "display_name": "Python 3 (ipykernel)",
   "language": "python",
   "name": "python3"
  },
  "language_info": {
   "codemirror_mode": {
    "name": "ipython",
    "version": 3
   },
   "file_extension": ".py",
   "mimetype": "text/x-python",
   "name": "python",
   "nbconvert_exporter": "python",
   "pygments_lexer": "ipython3",
   "version": "3.10.13"
  }
 },
 "nbformat": 4,
 "nbformat_minor": 4
}
